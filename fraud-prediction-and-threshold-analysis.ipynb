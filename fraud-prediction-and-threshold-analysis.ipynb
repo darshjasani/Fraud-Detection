{
 "cells": [
  {
   "cell_type": "markdown",
   "id": "2bc0cb32",
   "metadata": {
    "papermill": {
     "duration": 0.021309,
     "end_time": "2024-05-22T14:16:26.324435",
     "exception": false,
     "start_time": "2024-05-22T14:16:26.303126",
     "status": "completed"
    },
    "tags": []
   },
   "source": [
    "# Fraud prediction models and threshold analysis"
   ]
  },
  {
   "cell_type": "markdown",
   "id": "0da23989",
   "metadata": {
    "papermill": {
     "duration": 0.019657,
     "end_time": "2024-05-22T14:16:26.365069",
     "exception": false,
     "start_time": "2024-05-22T14:16:26.345412",
     "status": "completed"
    },
    "tags": []
   },
   "source": [
    "In this notebook, we will worked with logistic regression, SVC and XGBoost models, also changing threshold to see its impact on recall and f1 score, which are very important to fraud detection applications, to reduce the occurrence of false negatives."
   ]
  },
  {
   "cell_type": "markdown",
   "id": "af7415be",
   "metadata": {
    "papermill": {
     "duration": 0.018778,
     "end_time": "2024-05-22T14:16:26.403379",
     "exception": false,
     "start_time": "2024-05-22T14:16:26.384601",
     "status": "completed"
    },
    "tags": []
   },
   "source": [
    "# Load data"
   ]
  },
  {
   "cell_type": "code",
   "execution_count": 1,
   "id": "674d7717",
   "metadata": {
    "execution": {
     "iopub.execute_input": "2024-05-22T14:16:26.444927Z",
     "iopub.status.busy": "2024-05-22T14:16:26.443911Z",
     "iopub.status.idle": "2024-05-22T14:16:27.419491Z",
     "shell.execute_reply": "2024-05-22T14:16:27.418222Z"
    },
    "papermill": {
     "duration": 0.999542,
     "end_time": "2024-05-22T14:16:27.422565",
     "exception": false,
     "start_time": "2024-05-22T14:16:26.423023",
     "status": "completed"
    },
    "tags": []
   },
   "outputs": [],
   "source": [
    "import numpy as np\n",
    "import pandas as pd"
   ]
  },
  {
   "cell_type": "code",
   "execution_count": 2,
   "id": "759dc49c",
   "metadata": {
    "execution": {
     "iopub.execute_input": "2024-05-22T14:16:27.465957Z",
     "iopub.status.busy": "2024-05-22T14:16:27.465069Z",
     "iopub.status.idle": "2024-05-22T14:16:46.411407Z",
     "shell.execute_reply": "2024-05-22T14:16:46.410229Z"
    },
    "papermill": {
     "duration": 18.971128,
     "end_time": "2024-05-22T14:16:46.414440",
     "exception": false,
     "start_time": "2024-05-22T14:16:27.443312",
     "status": "completed"
    },
    "tags": []
   },
   "outputs": [],
   "source": [
    "df_test =  pd.read_csv('/kaggle/input/fraud-detection/fraudTest.csv')\n",
    "df_train =  pd.read_csv('/kaggle/input/fraud-detection/fraudTrain.csv')"
   ]
  },
  {
   "cell_type": "code",
   "execution_count": 3,
   "id": "9e462cab",
   "metadata": {
    "execution": {
     "iopub.execute_input": "2024-05-22T14:16:46.455450Z",
     "iopub.status.busy": "2024-05-22T14:16:46.454359Z",
     "iopub.status.idle": "2024-05-22T14:16:46.460421Z",
     "shell.execute_reply": "2024-05-22T14:16:46.459373Z"
    },
    "papermill": {
     "duration": 0.029791,
     "end_time": "2024-05-22T14:16:46.463465",
     "exception": false,
     "start_time": "2024-05-22T14:16:46.433674",
     "status": "completed"
    },
    "tags": []
   },
   "outputs": [
    {
     "name": "stdout",
     "output_type": "stream",
     "text": [
      "1296675 555719\n"
     ]
    }
   ],
   "source": [
    "print(len(df_train), len(df_test))"
   ]
  },
  {
   "cell_type": "markdown",
   "id": "1a0121ae",
   "metadata": {
    "papermill": {
     "duration": 0.018672,
     "end_time": "2024-05-22T14:16:46.501762",
     "exception": false,
     "start_time": "2024-05-22T14:16:46.483090",
     "status": "completed"
    },
    "tags": []
   },
   "source": [
    "We are goinh to use both dataframes, test and train, into one, with union operation"
   ]
  },
  {
   "cell_type": "code",
   "execution_count": 4,
   "id": "47e3748a",
   "metadata": {
    "execution": {
     "iopub.execute_input": "2024-05-22T14:16:46.542569Z",
     "iopub.status.busy": "2024-05-22T14:16:46.542139Z",
     "iopub.status.idle": "2024-05-22T14:16:47.010120Z",
     "shell.execute_reply": "2024-05-22T14:16:47.008951Z"
    },
    "papermill": {
     "duration": 0.491861,
     "end_time": "2024-05-22T14:16:47.012603",
     "exception": false,
     "start_time": "2024-05-22T14:16:46.520742",
     "status": "completed"
    },
    "tags": []
   },
   "outputs": [
    {
     "data": {
      "text/plain": [
       "1852394"
      ]
     },
     "execution_count": 4,
     "metadata": {},
     "output_type": "execute_result"
    }
   ],
   "source": [
    "df_complete = pd.concat([df_train, df_test])\n",
    "len(df_complete)"
   ]
  },
  {
   "cell_type": "code",
   "execution_count": 5,
   "id": "0685018f",
   "metadata": {
    "execution": {
     "iopub.execute_input": "2024-05-22T14:16:47.054150Z",
     "iopub.status.busy": "2024-05-22T14:16:47.053213Z",
     "iopub.status.idle": "2024-05-22T14:16:47.098550Z",
     "shell.execute_reply": "2024-05-22T14:16:47.097371Z"
    },
    "papermill": {
     "duration": 0.069041,
     "end_time": "2024-05-22T14:16:47.101268",
     "exception": false,
     "start_time": "2024-05-22T14:16:47.032227",
     "status": "completed"
    },
    "tags": []
   },
   "outputs": [
    {
     "data": {
      "text/html": [
       "<div>\n",
       "<style scoped>\n",
       "    .dataframe tbody tr th:only-of-type {\n",
       "        vertical-align: middle;\n",
       "    }\n",
       "\n",
       "    .dataframe tbody tr th {\n",
       "        vertical-align: top;\n",
       "    }\n",
       "\n",
       "    .dataframe thead th {\n",
       "        text-align: right;\n",
       "    }\n",
       "</style>\n",
       "<table border=\"1\" class=\"dataframe\">\n",
       "  <thead>\n",
       "    <tr style=\"text-align: right;\">\n",
       "      <th></th>\n",
       "      <th>Unnamed: 0</th>\n",
       "      <th>trans_date_trans_time</th>\n",
       "      <th>cc_num</th>\n",
       "      <th>merchant</th>\n",
       "      <th>category</th>\n",
       "      <th>amt</th>\n",
       "      <th>first</th>\n",
       "      <th>last</th>\n",
       "      <th>gender</th>\n",
       "      <th>street</th>\n",
       "      <th>...</th>\n",
       "      <th>lat</th>\n",
       "      <th>long</th>\n",
       "      <th>city_pop</th>\n",
       "      <th>job</th>\n",
       "      <th>dob</th>\n",
       "      <th>trans_num</th>\n",
       "      <th>unix_time</th>\n",
       "      <th>merch_lat</th>\n",
       "      <th>merch_long</th>\n",
       "      <th>is_fraud</th>\n",
       "    </tr>\n",
       "  </thead>\n",
       "  <tbody>\n",
       "    <tr>\n",
       "      <th>0</th>\n",
       "      <td>0</td>\n",
       "      <td>2019-01-01 00:00:18</td>\n",
       "      <td>2703186189652095</td>\n",
       "      <td>fraud_Rippin, Kub and Mann</td>\n",
       "      <td>misc_net</td>\n",
       "      <td>4.97</td>\n",
       "      <td>Jennifer</td>\n",
       "      <td>Banks</td>\n",
       "      <td>F</td>\n",
       "      <td>561 Perry Cove</td>\n",
       "      <td>...</td>\n",
       "      <td>36.0788</td>\n",
       "      <td>-81.1781</td>\n",
       "      <td>3495</td>\n",
       "      <td>Psychologist, counselling</td>\n",
       "      <td>1988-03-09</td>\n",
       "      <td>0b242abb623afc578575680df30655b9</td>\n",
       "      <td>1325376018</td>\n",
       "      <td>36.011293</td>\n",
       "      <td>-82.048315</td>\n",
       "      <td>0</td>\n",
       "    </tr>\n",
       "    <tr>\n",
       "      <th>1</th>\n",
       "      <td>1</td>\n",
       "      <td>2019-01-01 00:00:44</td>\n",
       "      <td>630423337322</td>\n",
       "      <td>fraud_Heller, Gutmann and Zieme</td>\n",
       "      <td>grocery_pos</td>\n",
       "      <td>107.23</td>\n",
       "      <td>Stephanie</td>\n",
       "      <td>Gill</td>\n",
       "      <td>F</td>\n",
       "      <td>43039 Riley Greens Suite 393</td>\n",
       "      <td>...</td>\n",
       "      <td>48.8878</td>\n",
       "      <td>-118.2105</td>\n",
       "      <td>149</td>\n",
       "      <td>Special educational needs teacher</td>\n",
       "      <td>1978-06-21</td>\n",
       "      <td>1f76529f8574734946361c461b024d99</td>\n",
       "      <td>1325376044</td>\n",
       "      <td>49.159047</td>\n",
       "      <td>-118.186462</td>\n",
       "      <td>0</td>\n",
       "    </tr>\n",
       "    <tr>\n",
       "      <th>2</th>\n",
       "      <td>2</td>\n",
       "      <td>2019-01-01 00:00:51</td>\n",
       "      <td>38859492057661</td>\n",
       "      <td>fraud_Lind-Buckridge</td>\n",
       "      <td>entertainment</td>\n",
       "      <td>220.11</td>\n",
       "      <td>Edward</td>\n",
       "      <td>Sanchez</td>\n",
       "      <td>M</td>\n",
       "      <td>594 White Dale Suite 530</td>\n",
       "      <td>...</td>\n",
       "      <td>42.1808</td>\n",
       "      <td>-112.2620</td>\n",
       "      <td>4154</td>\n",
       "      <td>Nature conservation officer</td>\n",
       "      <td>1962-01-19</td>\n",
       "      <td>a1a22d70485983eac12b5b88dad1cf95</td>\n",
       "      <td>1325376051</td>\n",
       "      <td>43.150704</td>\n",
       "      <td>-112.154481</td>\n",
       "      <td>0</td>\n",
       "    </tr>\n",
       "    <tr>\n",
       "      <th>3</th>\n",
       "      <td>3</td>\n",
       "      <td>2019-01-01 00:01:16</td>\n",
       "      <td>3534093764340240</td>\n",
       "      <td>fraud_Kutch, Hermiston and Farrell</td>\n",
       "      <td>gas_transport</td>\n",
       "      <td>45.00</td>\n",
       "      <td>Jeremy</td>\n",
       "      <td>White</td>\n",
       "      <td>M</td>\n",
       "      <td>9443 Cynthia Court Apt. 038</td>\n",
       "      <td>...</td>\n",
       "      <td>46.2306</td>\n",
       "      <td>-112.1138</td>\n",
       "      <td>1939</td>\n",
       "      <td>Patent attorney</td>\n",
       "      <td>1967-01-12</td>\n",
       "      <td>6b849c168bdad6f867558c3793159a81</td>\n",
       "      <td>1325376076</td>\n",
       "      <td>47.034331</td>\n",
       "      <td>-112.561071</td>\n",
       "      <td>0</td>\n",
       "    </tr>\n",
       "    <tr>\n",
       "      <th>4</th>\n",
       "      <td>4</td>\n",
       "      <td>2019-01-01 00:03:06</td>\n",
       "      <td>375534208663984</td>\n",
       "      <td>fraud_Keeling-Crist</td>\n",
       "      <td>misc_pos</td>\n",
       "      <td>41.96</td>\n",
       "      <td>Tyler</td>\n",
       "      <td>Garcia</td>\n",
       "      <td>M</td>\n",
       "      <td>408 Bradley Rest</td>\n",
       "      <td>...</td>\n",
       "      <td>38.4207</td>\n",
       "      <td>-79.4629</td>\n",
       "      <td>99</td>\n",
       "      <td>Dance movement psychotherapist</td>\n",
       "      <td>1986-03-28</td>\n",
       "      <td>a41d7549acf90789359a9aa5346dcb46</td>\n",
       "      <td>1325376186</td>\n",
       "      <td>38.674999</td>\n",
       "      <td>-78.632459</td>\n",
       "      <td>0</td>\n",
       "    </tr>\n",
       "  </tbody>\n",
       "</table>\n",
       "<p>5 rows × 23 columns</p>\n",
       "</div>"
      ],
      "text/plain": [
       "   Unnamed: 0 trans_date_trans_time            cc_num  \\\n",
       "0           0   2019-01-01 00:00:18  2703186189652095   \n",
       "1           1   2019-01-01 00:00:44      630423337322   \n",
       "2           2   2019-01-01 00:00:51    38859492057661   \n",
       "3           3   2019-01-01 00:01:16  3534093764340240   \n",
       "4           4   2019-01-01 00:03:06   375534208663984   \n",
       "\n",
       "                             merchant       category     amt      first  \\\n",
       "0          fraud_Rippin, Kub and Mann       misc_net    4.97   Jennifer   \n",
       "1     fraud_Heller, Gutmann and Zieme    grocery_pos  107.23  Stephanie   \n",
       "2                fraud_Lind-Buckridge  entertainment  220.11     Edward   \n",
       "3  fraud_Kutch, Hermiston and Farrell  gas_transport   45.00     Jeremy   \n",
       "4                 fraud_Keeling-Crist       misc_pos   41.96      Tyler   \n",
       "\n",
       "      last gender                        street  ...      lat      long  \\\n",
       "0    Banks      F                561 Perry Cove  ...  36.0788  -81.1781   \n",
       "1     Gill      F  43039 Riley Greens Suite 393  ...  48.8878 -118.2105   \n",
       "2  Sanchez      M      594 White Dale Suite 530  ...  42.1808 -112.2620   \n",
       "3    White      M   9443 Cynthia Court Apt. 038  ...  46.2306 -112.1138   \n",
       "4   Garcia      M              408 Bradley Rest  ...  38.4207  -79.4629   \n",
       "\n",
       "   city_pop                                job         dob  \\\n",
       "0      3495          Psychologist, counselling  1988-03-09   \n",
       "1       149  Special educational needs teacher  1978-06-21   \n",
       "2      4154        Nature conservation officer  1962-01-19   \n",
       "3      1939                    Patent attorney  1967-01-12   \n",
       "4        99     Dance movement psychotherapist  1986-03-28   \n",
       "\n",
       "                          trans_num   unix_time  merch_lat  merch_long  \\\n",
       "0  0b242abb623afc578575680df30655b9  1325376018  36.011293  -82.048315   \n",
       "1  1f76529f8574734946361c461b024d99  1325376044  49.159047 -118.186462   \n",
       "2  a1a22d70485983eac12b5b88dad1cf95  1325376051  43.150704 -112.154481   \n",
       "3  6b849c168bdad6f867558c3793159a81  1325376076  47.034331 -112.561071   \n",
       "4  a41d7549acf90789359a9aa5346dcb46  1325376186  38.674999  -78.632459   \n",
       "\n",
       "   is_fraud  \n",
       "0         0  \n",
       "1         0  \n",
       "2         0  \n",
       "3         0  \n",
       "4         0  \n",
       "\n",
       "[5 rows x 23 columns]"
      ]
     },
     "execution_count": 5,
     "metadata": {},
     "output_type": "execute_result"
    }
   ],
   "source": [
    "df_complete.head()"
   ]
  },
  {
   "cell_type": "markdown",
   "id": "2bf23bce",
   "metadata": {
    "papermill": {
     "duration": 0.019165,
     "end_time": "2024-05-22T14:16:47.140136",
     "exception": false,
     "start_time": "2024-05-22T14:16:47.120971",
     "status": "completed"
    },
    "tags": []
   },
   "source": [
    "# Data Understanding and Exploration"
   ]
  },
  {
   "cell_type": "code",
   "execution_count": 6,
   "id": "2250f017",
   "metadata": {
    "execution": {
     "iopub.execute_input": "2024-05-22T14:16:47.269287Z",
     "iopub.status.busy": "2024-05-22T14:16:47.268109Z",
     "iopub.status.idle": "2024-05-22T14:16:48.661799Z",
     "shell.execute_reply": "2024-05-22T14:16:48.660635Z"
    },
    "papermill": {
     "duration": 1.418569,
     "end_time": "2024-05-22T14:16:48.664850",
     "exception": false,
     "start_time": "2024-05-22T14:16:47.246281",
     "status": "completed"
    },
    "tags": []
   },
   "outputs": [],
   "source": [
    "import seaborn as sns\n",
    "import matplotlib.pyplot as plt"
   ]
  },
  {
   "cell_type": "code",
   "execution_count": 7,
   "id": "8bba668f",
   "metadata": {
    "execution": {
     "iopub.execute_input": "2024-05-22T14:16:48.706044Z",
     "iopub.status.busy": "2024-05-22T14:16:48.705662Z",
     "iopub.status.idle": "2024-05-22T14:16:50.425343Z",
     "shell.execute_reply": "2024-05-22T14:16:50.424227Z"
    },
    "papermill": {
     "duration": 1.743981,
     "end_time": "2024-05-22T14:16:50.428596",
     "exception": false,
     "start_time": "2024-05-22T14:16:48.684615",
     "status": "completed"
    },
    "tags": []
   },
   "outputs": [
    {
     "data": {
      "text/plain": [
       "<Axes: xlabel='is_fraud'>"
      ]
     },
     "execution_count": 7,
     "metadata": {},
     "output_type": "execute_result"
    },
    {
     "data": {
      "image/png": "[encoded data removed]",
      "text/plain": [
       "<Figure size 640x480 with 1 Axes>"
      ]
     },
     "metadata": {},
     "output_type": "display_data"
    }
   ],
   "source": [
    "df_complete.groupby('is_fraud').count()['cc_num'].plot.bar()"
   ]
  },
  {
   "cell_type": "markdown",
   "id": "bbef3cc7",
   "metadata": {
    "papermill": {
     "duration": 0.023489,
     "end_time": "2024-05-22T14:16:50.472577",
     "exception": false,
     "start_time": "2024-05-22T14:16:50.449088",
     "status": "completed"
    },
    "tags": []
   },
   "source": [
    "We can see that, as usual, the number of fraudulent transactions is much smaller, which can lead our model to predict non fraudulent (0) with higher performance than fraud (1) transactions."
   ]
  },
  {
   "cell_type": "code",
   "execution_count": 8,
   "id": "d5c50fd4",
   "metadata": {
    "execution": {
     "iopub.execute_input": "2024-05-22T14:16:50.516539Z",
     "iopub.status.busy": "2024-05-22T14:16:50.515488Z",
     "iopub.status.idle": "2024-05-22T14:16:51.143546Z",
     "shell.execute_reply": "2024-05-22T14:16:51.142249Z"
    },
    "papermill": {
     "duration": 0.652718,
     "end_time": "2024-05-22T14:16:51.145997",
     "exception": false,
     "start_time": "2024-05-22T14:16:50.493279",
     "status": "completed"
    },
    "tags": []
   },
   "outputs": [
    {
     "name": "stdout",
     "output_type": "stream",
     "text": [
      "9651 1842743\n"
     ]
    }
   ],
   "source": [
    "fraud = df_complete[df_complete['is_fraud'] == 1]\n",
    "non_fraud = df_complete[df_complete['is_fraud'] == 0]\n",
    "\n",
    "print(len(fraud), len(non_fraud))"
   ]
  },
  {
   "cell_type": "code",
   "execution_count": 9,
   "id": "b9c0db27",
   "metadata": {
    "execution": {
     "iopub.execute_input": "2024-05-22T14:16:51.189045Z",
     "iopub.status.busy": "2024-05-22T14:16:51.188467Z",
     "iopub.status.idle": "2024-05-22T14:16:52.386729Z",
     "shell.execute_reply": "2024-05-22T14:16:52.385503Z"
    },
    "papermill": {
     "duration": 1.222978,
     "end_time": "2024-05-22T14:16:52.389736",
     "exception": false,
     "start_time": "2024-05-22T14:16:51.166758",
     "status": "completed"
    },
    "tags": []
   },
   "outputs": [
    {
     "data": {
      "text/html": [
       "<div>\n",
       "<style scoped>\n",
       "    .dataframe tbody tr th:only-of-type {\n",
       "        vertical-align: middle;\n",
       "    }\n",
       "\n",
       "    .dataframe tbody tr th {\n",
       "        vertical-align: top;\n",
       "    }\n",
       "\n",
       "    .dataframe thead th {\n",
       "        text-align: right;\n",
       "    }\n",
       "</style>\n",
       "<table border=\"1\" class=\"dataframe\">\n",
       "  <thead>\n",
       "    <tr style=\"text-align: right;\">\n",
       "      <th></th>\n",
       "      <th>Unnamed: 0</th>\n",
       "      <th>cc_num</th>\n",
       "      <th>amt</th>\n",
       "      <th>zip</th>\n",
       "      <th>lat</th>\n",
       "      <th>long</th>\n",
       "      <th>city_pop</th>\n",
       "      <th>unix_time</th>\n",
       "      <th>merch_lat</th>\n",
       "      <th>merch_long</th>\n",
       "      <th>is_fraud</th>\n",
       "    </tr>\n",
       "  </thead>\n",
       "  <tbody>\n",
       "    <tr>\n",
       "      <th>count</th>\n",
       "      <td>1.852394e+06</td>\n",
       "      <td>1.852394e+06</td>\n",
       "      <td>1.852394e+06</td>\n",
       "      <td>1.852394e+06</td>\n",
       "      <td>1.852394e+06</td>\n",
       "      <td>1.852394e+06</td>\n",
       "      <td>1.852394e+06</td>\n",
       "      <td>1.852394e+06</td>\n",
       "      <td>1.852394e+06</td>\n",
       "      <td>1.852394e+06</td>\n",
       "      <td>1.852394e+06</td>\n",
       "    </tr>\n",
       "    <tr>\n",
       "      <th>mean</th>\n",
       "      <td>5.371934e+05</td>\n",
       "      <td>4.173860e+17</td>\n",
       "      <td>7.006357e+01</td>\n",
       "      <td>4.881326e+04</td>\n",
       "      <td>3.853931e+01</td>\n",
       "      <td>-9.022783e+01</td>\n",
       "      <td>8.864367e+04</td>\n",
       "      <td>1.358674e+09</td>\n",
       "      <td>3.853898e+01</td>\n",
       "      <td>-9.022794e+01</td>\n",
       "      <td>5.210015e-03</td>\n",
       "    </tr>\n",
       "    <tr>\n",
       "      <th>std</th>\n",
       "      <td>3.669110e+05</td>\n",
       "      <td>1.309115e+18</td>\n",
       "      <td>1.592540e+02</td>\n",
       "      <td>2.688185e+04</td>\n",
       "      <td>5.071470e+00</td>\n",
       "      <td>1.374789e+01</td>\n",
       "      <td>3.014876e+05</td>\n",
       "      <td>1.819508e+07</td>\n",
       "      <td>5.105604e+00</td>\n",
       "      <td>1.375969e+01</td>\n",
       "      <td>7.199217e-02</td>\n",
       "    </tr>\n",
       "    <tr>\n",
       "      <th>min</th>\n",
       "      <td>0.000000e+00</td>\n",
       "      <td>6.041621e+10</td>\n",
       "      <td>1.000000e+00</td>\n",
       "      <td>1.257000e+03</td>\n",
       "      <td>2.002710e+01</td>\n",
       "      <td>-1.656723e+02</td>\n",
       "      <td>2.300000e+01</td>\n",
       "      <td>1.325376e+09</td>\n",
       "      <td>1.902742e+01</td>\n",
       "      <td>-1.666716e+02</td>\n",
       "      <td>0.000000e+00</td>\n",
       "    </tr>\n",
       "    <tr>\n",
       "      <th>25%</th>\n",
       "      <td>2.315490e+05</td>\n",
       "      <td>1.800429e+14</td>\n",
       "      <td>9.640000e+00</td>\n",
       "      <td>2.623700e+04</td>\n",
       "      <td>3.466890e+01</td>\n",
       "      <td>-9.679800e+01</td>\n",
       "      <td>7.410000e+02</td>\n",
       "      <td>1.343017e+09</td>\n",
       "      <td>3.474012e+01</td>\n",
       "      <td>-9.689944e+01</td>\n",
       "      <td>0.000000e+00</td>\n",
       "    </tr>\n",
       "    <tr>\n",
       "      <th>50%</th>\n",
       "      <td>4.630980e+05</td>\n",
       "      <td>3.521417e+15</td>\n",
       "      <td>4.745000e+01</td>\n",
       "      <td>4.817400e+04</td>\n",
       "      <td>3.935430e+01</td>\n",
       "      <td>-8.747690e+01</td>\n",
       "      <td>2.443000e+03</td>\n",
       "      <td>1.357089e+09</td>\n",
       "      <td>3.936890e+01</td>\n",
       "      <td>-8.744069e+01</td>\n",
       "      <td>0.000000e+00</td>\n",
       "    </tr>\n",
       "    <tr>\n",
       "      <th>75%</th>\n",
       "      <td>8.335758e+05</td>\n",
       "      <td>4.642255e+15</td>\n",
       "      <td>8.310000e+01</td>\n",
       "      <td>7.204200e+04</td>\n",
       "      <td>4.194040e+01</td>\n",
       "      <td>-8.015800e+01</td>\n",
       "      <td>2.032800e+04</td>\n",
       "      <td>1.374581e+09</td>\n",
       "      <td>4.195626e+01</td>\n",
       "      <td>-8.024511e+01</td>\n",
       "      <td>0.000000e+00</td>\n",
       "    </tr>\n",
       "    <tr>\n",
       "      <th>max</th>\n",
       "      <td>1.296674e+06</td>\n",
       "      <td>4.992346e+18</td>\n",
       "      <td>2.894890e+04</td>\n",
       "      <td>9.992100e+04</td>\n",
       "      <td>6.669330e+01</td>\n",
       "      <td>-6.795030e+01</td>\n",
       "      <td>2.906700e+06</td>\n",
       "      <td>1.388534e+09</td>\n",
       "      <td>6.751027e+01</td>\n",
       "      <td>-6.695090e+01</td>\n",
       "      <td>1.000000e+00</td>\n",
       "    </tr>\n",
       "  </tbody>\n",
       "</table>\n",
       "</div>"
      ],
      "text/plain": [
       "         Unnamed: 0        cc_num           amt           zip           lat  \\\n",
       "count  1.852394e+06  1.852394e+06  1.852394e+06  1.852394e+06  1.852394e+06   \n",
       "mean   5.371934e+05  4.173860e+17  7.006357e+01  4.881326e+04  3.853931e+01   \n",
       "std    3.669110e+05  1.309115e+18  1.592540e+02  2.688185e+04  5.071470e+00   \n",
       "min    0.000000e+00  6.041621e+10  1.000000e+00  1.257000e+03  2.002710e+01   \n",
       "25%    2.315490e+05  1.800429e+14  9.640000e+00  2.623700e+04  3.466890e+01   \n",
       "50%    4.630980e+05  3.521417e+15  4.745000e+01  4.817400e+04  3.935430e+01   \n",
       "75%    8.335758e+05  4.642255e+15  8.310000e+01  7.204200e+04  4.194040e+01   \n",
       "max    1.296674e+06  4.992346e+18  2.894890e+04  9.992100e+04  6.669330e+01   \n",
       "\n",
       "               long      city_pop     unix_time     merch_lat    merch_long  \\\n",
       "count  1.852394e+06  1.852394e+06  1.852394e+06  1.852394e+06  1.852394e+06   \n",
       "mean  -9.022783e+01  8.864367e+04  1.358674e+09  3.853898e+01 -9.022794e+01   \n",
       "std    1.374789e+01  3.014876e+05  1.819508e+07  5.105604e+00  1.375969e+01   \n",
       "min   -1.656723e+02  2.300000e+01  1.325376e+09  1.902742e+01 -1.666716e+02   \n",
       "25%   -9.679800e+01  7.410000e+02  1.343017e+09  3.474012e+01 -9.689944e+01   \n",
       "50%   -8.747690e+01  2.443000e+03  1.357089e+09  3.936890e+01 -8.744069e+01   \n",
       "75%   -8.015800e+01  2.032800e+04  1.374581e+09  4.195626e+01 -8.024511e+01   \n",
       "max   -6.795030e+01  2.906700e+06  1.388534e+09  6.751027e+01 -6.695090e+01   \n",
       "\n",
       "           is_fraud  \n",
       "count  1.852394e+06  \n",
       "mean   5.210015e-03  \n",
       "std    7.199217e-02  \n",
       "min    0.000000e+00  \n",
       "25%    0.000000e+00  \n",
       "50%    0.000000e+00  \n",
       "75%    0.000000e+00  \n",
       "max    1.000000e+00  "
      ]
     },
     "execution_count": 9,
     "metadata": {},
     "output_type": "execute_result"
    }
   ],
   "source": [
    "df_complete.describe()"
   ]
  },
  {
   "cell_type": "code",
   "execution_count": 10,
   "id": "b97d26a2",
   "metadata": {
    "execution": {
     "iopub.execute_input": "2024-05-22T14:16:52.436310Z",
     "iopub.status.busy": "2024-05-22T14:16:52.435844Z",
     "iopub.status.idle": "2024-05-22T14:16:52.455692Z",
     "shell.execute_reply": "2024-05-22T14:16:52.454565Z"
    },
    "papermill": {
     "duration": 0.046488,
     "end_time": "2024-05-22T14:16:52.458565",
     "exception": false,
     "start_time": "2024-05-22T14:16:52.412077",
     "status": "completed"
    },
    "tags": []
   },
   "outputs": [
    {
     "name": "stdout",
     "output_type": "stream",
     "text": [
      "<class 'pandas.core.frame.DataFrame'>\n",
      "Index: 1852394 entries, 0 to 555718\n",
      "Data columns (total 23 columns):\n",
      " #   Column                 Dtype  \n",
      "---  ------                 -----  \n",
      " 0   Unnamed: 0             int64  \n",
      " 1   trans_date_trans_time  object \n",
      " 2   cc_num                 int64  \n",
      " 3   merchant               object \n",
      " 4   category               object \n",
      " 5   amt                    float64\n",
      " 6   first                  object \n",
      " 7   last                   object \n",
      " 8   gender                 object \n",
      " 9   street                 object \n",
      " 10  city                   object \n",
      " 11  state                  object \n",
      " 12  zip                    int64  \n",
      " 13  lat                    float64\n",
      " 14  long                   float64\n",
      " 15  city_pop               int64  \n",
      " 16  job                    object \n",
      " 17  dob                    object \n",
      " 18  trans_num              object \n",
      " 19  unix_time              int64  \n",
      " 20  merch_lat              float64\n",
      " 21  merch_long             float64\n",
      " 22  is_fraud               int64  \n",
      "dtypes: float64(5), int64(6), object(12)\n",
      "memory usage: 339.2+ MB\n"
     ]
    }
   ],
   "source": [
    "df_complete.info()"
   ]
  },
  {
   "cell_type": "markdown",
   "id": "6a89df36",
   "metadata": {
    "papermill": {
     "duration": 0.021347,
     "end_time": "2024-05-22T14:16:52.502075",
     "exception": false,
     "start_time": "2024-05-22T14:16:52.480728",
     "status": "completed"
    },
    "tags": []
   },
   "source": [
    "# Checking distinct"
   ]
  },
  {
   "cell_type": "code",
   "execution_count": 11,
   "id": "be8b5d83",
   "metadata": {
    "execution": {
     "iopub.execute_input": "2024-05-22T14:16:52.547452Z",
     "iopub.status.busy": "2024-05-22T14:16:52.546344Z",
     "iopub.status.idle": "2024-05-22T14:16:57.630438Z",
     "shell.execute_reply": "2024-05-22T14:16:57.629352Z"
    },
    "papermill": {
     "duration": 5.109427,
     "end_time": "2024-05-22T14:16:57.633117",
     "exception": false,
     "start_time": "2024-05-22T14:16:52.523690",
     "status": "completed"
    },
    "tags": []
   },
   "outputs": [
    {
     "data": {
      "text/plain": [
       "Unnamed: 0               1296675\n",
       "trans_date_trans_time    1819551\n",
       "cc_num                       999\n",
       "merchant                     693\n",
       "category                      14\n",
       "amt                        60616\n",
       "first                        355\n",
       "last                         486\n",
       "gender                         2\n",
       "street                       999\n",
       "city                         906\n",
       "state                         51\n",
       "zip                          985\n",
       "lat                          983\n",
       "long                         983\n",
       "city_pop                     891\n",
       "job                          497\n",
       "dob                          984\n",
       "trans_num                1852394\n",
       "unix_time                1819583\n",
       "merch_lat                1754157\n",
       "merch_long               1809753\n",
       "is_fraud                       2\n",
       "dtype: int64"
      ]
     },
     "execution_count": 11,
     "metadata": {},
     "output_type": "execute_result"
    }
   ],
   "source": [
    "df_complete.nunique()"
   ]
  },
  {
   "cell_type": "markdown",
   "id": "4b15c311",
   "metadata": {
    "papermill": {
     "duration": 0.021615,
     "end_time": "2024-05-22T14:16:57.677022",
     "exception": false,
     "start_time": "2024-05-22T14:16:57.655407",
     "status": "completed"
    },
    "tags": []
   },
   "source": [
    "# Checking for NaN/null and duplicated cells"
   ]
  },
  {
   "cell_type": "code",
   "execution_count": 12,
   "id": "533cbc15",
   "metadata": {
    "execution": {
     "iopub.execute_input": "2024-05-22T14:16:57.721680Z",
     "iopub.status.busy": "2024-05-22T14:16:57.720695Z",
     "iopub.status.idle": "2024-05-22T14:16:58.787472Z",
     "shell.execute_reply": "2024-05-22T14:16:58.786316Z"
    },
    "papermill": {
     "duration": 1.091952,
     "end_time": "2024-05-22T14:16:58.790214",
     "exception": false,
     "start_time": "2024-05-22T14:16:57.698262",
     "status": "completed"
    },
    "tags": []
   },
   "outputs": [
    {
     "data": {
      "text/plain": [
       "0"
      ]
     },
     "execution_count": 12,
     "metadata": {},
     "output_type": "execute_result"
    }
   ],
   "source": [
    "df_complete.isna().sum().sum()"
   ]
  },
  {
   "cell_type": "code",
   "execution_count": 13,
   "id": "14d562b6",
   "metadata": {
    "execution": {
     "iopub.execute_input": "2024-05-22T14:16:58.836106Z",
     "iopub.status.busy": "2024-05-22T14:16:58.835666Z",
     "iopub.status.idle": "2024-05-22T14:17:05.151557Z",
     "shell.execute_reply": "2024-05-22T14:17:05.150422Z"
    },
    "papermill": {
     "duration": 6.341793,
     "end_time": "2024-05-22T14:17:05.154207",
     "exception": false,
     "start_time": "2024-05-22T14:16:58.812414",
     "status": "completed"
    },
    "tags": []
   },
   "outputs": [
    {
     "data": {
      "text/plain": [
       "0"
      ]
     },
     "execution_count": 13,
     "metadata": {},
     "output_type": "execute_result"
    }
   ],
   "source": [
    "df_complete.duplicated().sum()"
   ]
  },
  {
   "cell_type": "markdown",
   "id": "d6e4c61c",
   "metadata": {
    "papermill": {
     "duration": 0.02088,
     "end_time": "2024-05-22T14:17:05.196860",
     "exception": false,
     "start_time": "2024-05-22T14:17:05.175980",
     "status": "completed"
    },
    "tags": []
   },
   "source": [
    "We are not going to analyze outliers for they can be important to detect frauds."
   ]
  },
  {
   "cell_type": "code",
   "execution_count": 14,
   "id": "5b057fc8",
   "metadata": {
    "execution": {
     "iopub.execute_input": "2024-05-22T14:17:05.242054Z",
     "iopub.status.busy": "2024-05-22T14:17:05.240940Z",
     "iopub.status.idle": "2024-05-22T14:17:06.601693Z",
     "shell.execute_reply": "2024-05-22T14:17:06.600522Z"
    },
    "papermill": {
     "duration": 1.386725,
     "end_time": "2024-05-22T14:17:06.604950",
     "exception": false,
     "start_time": "2024-05-22T14:17:05.218225",
     "status": "completed"
    },
    "tags": []
   },
   "outputs": [
    {
     "data": {
      "text/plain": [
       "<Axes: >"
      ]
     },
     "execution_count": 14,
     "metadata": {},
     "output_type": "execute_result"
    },
    {
     "data": {
      "image/png": "[encoded data removed]",
      "text/plain": [
       "<Figure size 640x480 with 2 Axes>"
      ]
     },
     "metadata": {},
     "output_type": "display_data"
    }
   ],
   "source": [
    "sns.heatmap(df_complete[[i for i in df_complete.columns\\\n",
    "                         if df_complete[i].dtype == 'int64' \\\n",
    "                            or df_complete[i].dtype == 'float64']]\\\n",
    "                            .corr())"
   ]
  },
  {
   "cell_type": "markdown",
   "id": "aa93449f",
   "metadata": {
    "papermill": {
     "duration": 0.021583,
     "end_time": "2024-05-22T14:17:06.648649",
     "exception": false,
     "start_time": "2024-05-22T14:17:06.627066",
     "status": "completed"
    },
    "tags": []
   },
   "source": [
    "This shows greater correlation of 'is_fraud' column with 'amt' variable"
   ]
  },
  {
   "cell_type": "markdown",
   "id": "ca01ef4c",
   "metadata": {
    "papermill": {
     "duration": 0.021823,
     "end_time": "2024-05-22T14:17:06.692365",
     "exception": false,
     "start_time": "2024-05-22T14:17:06.670542",
     "status": "completed"
    },
    "tags": []
   },
   "source": [
    "# Data Preparation"
   ]
  },
  {
   "cell_type": "markdown",
   "id": "0417e9f9",
   "metadata": {
    "papermill": {
     "duration": 0.021923,
     "end_time": "2024-05-22T14:17:06.736551",
     "exception": false,
     "start_time": "2024-05-22T14:17:06.714628",
     "status": "completed"
    },
    "tags": []
   },
   "source": [
    "### Balancing the dataset"
   ]
  },
  {
   "cell_type": "code",
   "execution_count": 15,
   "id": "a6f810f1",
   "metadata": {
    "execution": {
     "iopub.execute_input": "2024-05-22T14:17:06.783459Z",
     "iopub.status.busy": "2024-05-22T14:17:06.782274Z",
     "iopub.status.idle": "2024-05-22T14:17:06.932911Z",
     "shell.execute_reply": "2024-05-22T14:17:06.931882Z"
    },
    "papermill": {
     "duration": 0.177395,
     "end_time": "2024-05-22T14:17:06.935899",
     "exception": false,
     "start_time": "2024-05-22T14:17:06.758504",
     "status": "completed"
    },
    "tags": []
   },
   "outputs": [],
   "source": [
    "df_balanced = pd.concat([fraud, non_fraud.sample(len(fraud), random_state= 42)])"
   ]
  },
  {
   "cell_type": "code",
   "execution_count": 16,
   "id": "bca46117",
   "metadata": {
    "execution": {
     "iopub.execute_input": "2024-05-22T14:17:06.986877Z",
     "iopub.status.busy": "2024-05-22T14:17:06.985652Z",
     "iopub.status.idle": "2024-05-22T14:17:06.993551Z",
     "shell.execute_reply": "2024-05-22T14:17:06.992348Z"
    },
    "papermill": {
     "duration": 0.037848,
     "end_time": "2024-05-22T14:17:06.996241",
     "exception": false,
     "start_time": "2024-05-22T14:17:06.958393",
     "status": "completed"
    },
    "tags": []
   },
   "outputs": [
    {
     "data": {
      "text/plain": [
       "(19302, 23)"
      ]
     },
     "execution_count": 16,
     "metadata": {},
     "output_type": "execute_result"
    }
   ],
   "source": [
    "df_balanced.shape"
   ]
  },
  {
   "cell_type": "code",
   "execution_count": 17,
   "id": "979a05b4",
   "metadata": {
    "execution": {
     "iopub.execute_input": "2024-05-22T14:17:07.046244Z",
     "iopub.status.busy": "2024-05-22T14:17:07.045069Z",
     "iopub.status.idle": "2024-05-22T14:17:07.259256Z",
     "shell.execute_reply": "2024-05-22T14:17:07.258068Z"
    },
    "papermill": {
     "duration": 0.241312,
     "end_time": "2024-05-22T14:17:07.262004",
     "exception": false,
     "start_time": "2024-05-22T14:17:07.020692",
     "status": "completed"
    },
    "tags": []
   },
   "outputs": [
    {
     "data": {
      "text/plain": [
       "<Axes: xlabel='is_fraud'>"
      ]
     },
     "execution_count": 17,
     "metadata": {},
     "output_type": "execute_result"
    },
    {
     "data": {
      "image/png": "[encoded data removed]",
      "text/plain": [
       "<Figure size 640x480 with 1 Axes>"
      ]
     },
     "metadata": {},
     "output_type": "display_data"
    }
   ],
   "source": [
    "df_balanced.groupby('is_fraud').count()['cc_num'].plot.bar()"
   ]
  },
  {
   "cell_type": "markdown",
   "id": "d902516c",
   "metadata": {
    "papermill": {
     "duration": 0.022303,
     "end_time": "2024-05-22T14:17:07.307852",
     "exception": false,
     "start_time": "2024-05-22T14:17:07.285549",
     "status": "completed"
    },
    "tags": []
   },
   "source": [
    "### Dropping columns"
   ]
  },
  {
   "cell_type": "code",
   "execution_count": 18,
   "id": "65c6563e",
   "metadata": {
    "execution": {
     "iopub.execute_input": "2024-05-22T14:17:07.356130Z",
     "iopub.status.busy": "2024-05-22T14:17:07.355234Z",
     "iopub.status.idle": "2024-05-22T14:17:07.371424Z",
     "shell.execute_reply": "2024-05-22T14:17:07.370216Z"
    },
    "papermill": {
     "duration": 0.043742,
     "end_time": "2024-05-22T14:17:07.374293",
     "exception": false,
     "start_time": "2024-05-22T14:17:07.330551",
     "status": "completed"
    },
    "tags": []
   },
   "outputs": [],
   "source": [
    "# Dropping columns not relevant for this case\n",
    "columns_dropped = ['Unnamed: 0',\n",
    "                   'merchant', \n",
    "                   'cc_num',\n",
    "                   'first', \n",
    "                   'last',\n",
    "                   'gender',\n",
    "                   'trans_num',\n",
    "                   'unix_time',\n",
    "                   'street',\n",
    "                   'merch_lat',\n",
    "                   'merch_long',\n",
    "                   'job',\n",
    "                   'zip',\n",
    "                   ]\n",
    "\n",
    "df_balanced.drop(columns = columns_dropped, inplace = True)"
   ]
  },
  {
   "cell_type": "code",
   "execution_count": 19,
   "id": "0ff67c62",
   "metadata": {
    "execution": {
     "iopub.execute_input": "2024-05-22T14:17:07.423811Z",
     "iopub.status.busy": "2024-05-22T14:17:07.422589Z",
     "iopub.status.idle": "2024-05-22T14:17:07.449830Z",
     "shell.execute_reply": "2024-05-22T14:17:07.448579Z"
    },
    "papermill": {
     "duration": 0.055176,
     "end_time": "2024-05-22T14:17:07.452968",
     "exception": false,
     "start_time": "2024-05-22T14:17:07.397792",
     "status": "completed"
    },
    "tags": []
   },
   "outputs": [
    {
     "name": "stdout",
     "output_type": "stream",
     "text": [
      "<class 'pandas.core.frame.DataFrame'>\n",
      "Index: 19302 entries, 2449 to 135673\n",
      "Data columns (total 10 columns):\n",
      " #   Column                 Non-Null Count  Dtype  \n",
      "---  ------                 --------------  -----  \n",
      " 0   trans_date_trans_time  19302 non-null  object \n",
      " 1   category               19302 non-null  object \n",
      " 2   amt                    19302 non-null  float64\n",
      " 3   city                   19302 non-null  object \n",
      " 4   state                  19302 non-null  object \n",
      " 5   lat                    19302 non-null  float64\n",
      " 6   long                   19302 non-null  float64\n",
      " 7   city_pop               19302 non-null  int64  \n",
      " 8   dob                    19302 non-null  object \n",
      " 9   is_fraud               19302 non-null  int64  \n",
      "dtypes: float64(3), int64(2), object(5)\n",
      "memory usage: 1.6+ MB\n"
     ]
    }
   ],
   "source": [
    "df_balanced.info()"
   ]
  },
  {
   "cell_type": "markdown",
   "id": "7680e0eb",
   "metadata": {
    "papermill": {
     "duration": 0.024007,
     "end_time": "2024-05-22T14:17:07.500670",
     "exception": false,
     "start_time": "2024-05-22T14:17:07.476663",
     "status": "completed"
    },
    "tags": []
   },
   "source": [
    "### Feature Engineering: Managing datetimes"
   ]
  },
  {
   "cell_type": "code",
   "execution_count": 20,
   "id": "2f5ade42",
   "metadata": {
    "execution": {
     "iopub.execute_input": "2024-05-22T14:17:07.550582Z",
     "iopub.status.busy": "2024-05-22T14:17:07.550079Z",
     "iopub.status.idle": "2024-05-22T14:17:07.585645Z",
     "shell.execute_reply": "2024-05-22T14:17:07.584335Z"
    },
    "papermill": {
     "duration": 0.064629,
     "end_time": "2024-05-22T14:17:07.588619",
     "exception": false,
     "start_time": "2024-05-22T14:17:07.523990",
     "status": "completed"
    },
    "tags": []
   },
   "outputs": [],
   "source": [
    "# First, I'm converting 'trans_date_trans_time' and 'dob' into datetime type\n",
    "df_balanced['trans_date_trans_time'] = pd.to_datetime(df_balanced['trans_date_trans_time'])\n",
    "df_balanced['dob'] = pd.to_datetime(df_balanced['dob'])"
   ]
  },
  {
   "cell_type": "code",
   "execution_count": 21,
   "id": "bcdb51c7",
   "metadata": {
    "execution": {
     "iopub.execute_input": "2024-05-22T14:17:07.639174Z",
     "iopub.status.busy": "2024-05-22T14:17:07.638675Z",
     "iopub.status.idle": "2024-05-22T14:17:07.657153Z",
     "shell.execute_reply": "2024-05-22T14:17:07.655717Z"
    },
    "papermill": {
     "duration": 0.046295,
     "end_time": "2024-05-22T14:17:07.659798",
     "exception": false,
     "start_time": "2024-05-22T14:17:07.613503",
     "status": "completed"
    },
    "tags": []
   },
   "outputs": [
    {
     "name": "stdout",
     "output_type": "stream",
     "text": [
      "<class 'pandas.core.frame.DataFrame'>\n",
      "Index: 19302 entries, 2449 to 135673\n",
      "Data columns (total 10 columns):\n",
      " #   Column                 Non-Null Count  Dtype         \n",
      "---  ------                 --------------  -----         \n",
      " 0   trans_date_trans_time  19302 non-null  datetime64[ns]\n",
      " 1   category               19302 non-null  object        \n",
      " 2   amt                    19302 non-null  float64       \n",
      " 3   city                   19302 non-null  object        \n",
      " 4   state                  19302 non-null  object        \n",
      " 5   lat                    19302 non-null  float64       \n",
      " 6   long                   19302 non-null  float64       \n",
      " 7   city_pop               19302 non-null  int64         \n",
      " 8   dob                    19302 non-null  datetime64[ns]\n",
      " 9   is_fraud               19302 non-null  int64         \n",
      "dtypes: datetime64[ns](2), float64(3), int64(2), object(3)\n",
      "memory usage: 1.6+ MB\n"
     ]
    }
   ],
   "source": [
    "df_balanced.info()"
   ]
  },
  {
   "cell_type": "code",
   "execution_count": 22,
   "id": "1ae40474",
   "metadata": {
    "execution": {
     "iopub.execute_input": "2024-05-22T14:17:07.708353Z",
     "iopub.status.busy": "2024-05-22T14:17:07.707432Z",
     "iopub.status.idle": "2024-05-22T14:17:07.714699Z",
     "shell.execute_reply": "2024-05-22T14:17:07.713570Z"
    },
    "papermill": {
     "duration": 0.034247,
     "end_time": "2024-05-22T14:17:07.717283",
     "exception": false,
     "start_time": "2024-05-22T14:17:07.683036",
     "status": "completed"
    },
    "tags": []
   },
   "outputs": [],
   "source": [
    "# Now, we can use these datetime variables to extract relevant information\n",
    "# about the transaction and the client, such as day hour and age\n",
    "\n",
    "# Lets change these columns\n",
    "df_balanced['trans_date_trans_time'] = df_balanced['trans_date_trans_time'].dt.hour"
   ]
  },
  {
   "cell_type": "code",
   "execution_count": 23,
   "id": "70ef2033",
   "metadata": {
    "execution": {
     "iopub.execute_input": "2024-05-22T14:17:07.766541Z",
     "iopub.status.busy": "2024-05-22T14:17:07.765534Z",
     "iopub.status.idle": "2024-05-22T14:17:07.776524Z",
     "shell.execute_reply": "2024-05-22T14:17:07.775310Z"
    },
    "papermill": {
     "duration": 0.038583,
     "end_time": "2024-05-22T14:17:07.779421",
     "exception": false,
     "start_time": "2024-05-22T14:17:07.740838",
     "status": "completed"
    },
    "tags": []
   },
   "outputs": [],
   "source": [
    "df_balanced = df_balanced.rename(columns = {'trans_date_trans_time': 'hour_transaction'})"
   ]
  },
  {
   "cell_type": "code",
   "execution_count": 24,
   "id": "d774d6b1",
   "metadata": {
    "execution": {
     "iopub.execute_input": "2024-05-22T14:17:07.828001Z",
     "iopub.status.busy": "2024-05-22T14:17:07.827540Z",
     "iopub.status.idle": "2024-05-22T14:17:07.834333Z",
     "shell.execute_reply": "2024-05-22T14:17:07.832993Z"
    },
    "papermill": {
     "duration": 0.033682,
     "end_time": "2024-05-22T14:17:07.836779",
     "exception": false,
     "start_time": "2024-05-22T14:17:07.803097",
     "status": "completed"
    },
    "tags": []
   },
   "outputs": [],
   "source": [
    "# Function to get time of day\n",
    "def get_tod(hour):\n",
    "    if 4 < hour['hour_transaction'] <= 12:\n",
    "        ans = 'morning'\n",
    "    elif 12 < hour['hour_transaction'] <= 20:\n",
    "        ans = 'afternoon'\n",
    "    elif hour['hour_transaction'] <= 4 or hour['hour_transaction'] > 20:\n",
    "        ans = 'night'\n",
    "    return ans"
   ]
  },
  {
   "cell_type": "code",
   "execution_count": 25,
   "id": "f6195133",
   "metadata": {
    "execution": {
     "iopub.execute_input": "2024-05-22T14:17:07.885912Z",
     "iopub.status.busy": "2024-05-22T14:17:07.884857Z",
     "iopub.status.idle": "2024-05-22T14:17:08.176874Z",
     "shell.execute_reply": "2024-05-22T14:17:08.175769Z"
    },
    "papermill": {
     "duration": 0.320083,
     "end_time": "2024-05-22T14:17:08.180084",
     "exception": false,
     "start_time": "2024-05-22T14:17:07.860001",
     "status": "completed"
    },
    "tags": []
   },
   "outputs": [],
   "source": [
    "df_balanced['hour_transaction'] = df_balanced.apply(get_tod, axis = 1)"
   ]
  },
  {
   "cell_type": "code",
   "execution_count": 26,
   "id": "c292b3fa",
   "metadata": {
    "execution": {
     "iopub.execute_input": "2024-05-22T14:17:08.229317Z",
     "iopub.status.busy": "2024-05-22T14:17:08.228831Z",
     "iopub.status.idle": "2024-05-22T14:17:08.246513Z",
     "shell.execute_reply": "2024-05-22T14:17:08.245266Z"
    },
    "papermill": {
     "duration": 0.045711,
     "end_time": "2024-05-22T14:17:08.249131",
     "exception": false,
     "start_time": "2024-05-22T14:17:08.203420",
     "status": "completed"
    },
    "tags": []
   },
   "outputs": [
    {
     "data": {
      "text/html": [
       "<div>\n",
       "<style scoped>\n",
       "    .dataframe tbody tr th:only-of-type {\n",
       "        vertical-align: middle;\n",
       "    }\n",
       "\n",
       "    .dataframe tbody tr th {\n",
       "        vertical-align: top;\n",
       "    }\n",
       "\n",
       "    .dataframe thead th {\n",
       "        text-align: right;\n",
       "    }\n",
       "</style>\n",
       "<table border=\"1\" class=\"dataframe\">\n",
       "  <thead>\n",
       "    <tr style=\"text-align: right;\">\n",
       "      <th></th>\n",
       "      <th>hour_transaction</th>\n",
       "      <th>category</th>\n",
       "      <th>amt</th>\n",
       "      <th>city</th>\n",
       "      <th>state</th>\n",
       "      <th>lat</th>\n",
       "      <th>long</th>\n",
       "      <th>city_pop</th>\n",
       "      <th>dob</th>\n",
       "      <th>is_fraud</th>\n",
       "    </tr>\n",
       "  </thead>\n",
       "  <tbody>\n",
       "    <tr>\n",
       "      <th>2449</th>\n",
       "      <td>night</td>\n",
       "      <td>grocery_pos</td>\n",
       "      <td>281.06</td>\n",
       "      <td>Collettsville</td>\n",
       "      <td>NC</td>\n",
       "      <td>35.9946</td>\n",
       "      <td>-81.7266</td>\n",
       "      <td>885</td>\n",
       "      <td>1988-09-15</td>\n",
       "      <td>1</td>\n",
       "    </tr>\n",
       "    <tr>\n",
       "      <th>2472</th>\n",
       "      <td>night</td>\n",
       "      <td>gas_transport</td>\n",
       "      <td>11.52</td>\n",
       "      <td>San Antonio</td>\n",
       "      <td>TX</td>\n",
       "      <td>29.4400</td>\n",
       "      <td>-98.4590</td>\n",
       "      <td>1595797</td>\n",
       "      <td>1960-10-28</td>\n",
       "      <td>1</td>\n",
       "    </tr>\n",
       "    <tr>\n",
       "      <th>2523</th>\n",
       "      <td>night</td>\n",
       "      <td>grocery_pos</td>\n",
       "      <td>276.31</td>\n",
       "      <td>San Antonio</td>\n",
       "      <td>TX</td>\n",
       "      <td>29.4400</td>\n",
       "      <td>-98.4590</td>\n",
       "      <td>1595797</td>\n",
       "      <td>1960-10-28</td>\n",
       "      <td>1</td>\n",
       "    </tr>\n",
       "    <tr>\n",
       "      <th>2546</th>\n",
       "      <td>night</td>\n",
       "      <td>gas_transport</td>\n",
       "      <td>7.03</td>\n",
       "      <td>Collettsville</td>\n",
       "      <td>NC</td>\n",
       "      <td>35.9946</td>\n",
       "      <td>-81.7266</td>\n",
       "      <td>885</td>\n",
       "      <td>1988-09-15</td>\n",
       "      <td>1</td>\n",
       "    </tr>\n",
       "    <tr>\n",
       "      <th>2553</th>\n",
       "      <td>night</td>\n",
       "      <td>grocery_pos</td>\n",
       "      <td>275.73</td>\n",
       "      <td>San Antonio</td>\n",
       "      <td>TX</td>\n",
       "      <td>29.4400</td>\n",
       "      <td>-98.4590</td>\n",
       "      <td>1595797</td>\n",
       "      <td>1960-10-28</td>\n",
       "      <td>1</td>\n",
       "    </tr>\n",
       "  </tbody>\n",
       "</table>\n",
       "</div>"
      ],
      "text/plain": [
       "     hour_transaction       category     amt           city state      lat  \\\n",
       "2449            night    grocery_pos  281.06  Collettsville    NC  35.9946   \n",
       "2472            night  gas_transport   11.52    San Antonio    TX  29.4400   \n",
       "2523            night    grocery_pos  276.31    San Antonio    TX  29.4400   \n",
       "2546            night  gas_transport    7.03  Collettsville    NC  35.9946   \n",
       "2553            night    grocery_pos  275.73    San Antonio    TX  29.4400   \n",
       "\n",
       "         long  city_pop        dob  is_fraud  \n",
       "2449 -81.7266       885 1988-09-15         1  \n",
       "2472 -98.4590   1595797 1960-10-28         1  \n",
       "2523 -98.4590   1595797 1960-10-28         1  \n",
       "2546 -81.7266       885 1988-09-15         1  \n",
       "2553 -98.4590   1595797 1960-10-28         1  "
      ]
     },
     "execution_count": 26,
     "metadata": {},
     "output_type": "execute_result"
    }
   ],
   "source": [
    "df_balanced.head()"
   ]
  },
  {
   "cell_type": "code",
   "execution_count": 27,
   "id": "c7a9a159",
   "metadata": {
    "execution": {
     "iopub.execute_input": "2024-05-22T14:17:08.298862Z",
     "iopub.status.busy": "2024-05-22T14:17:08.298415Z",
     "iopub.status.idle": "2024-05-22T14:17:08.310490Z",
     "shell.execute_reply": "2024-05-22T14:17:08.309400Z"
    },
    "papermill": {
     "duration": 0.040002,
     "end_time": "2024-05-22T14:17:08.313375",
     "exception": false,
     "start_time": "2024-05-22T14:17:08.273373",
     "status": "completed"
    },
    "tags": []
   },
   "outputs": [],
   "source": [
    "# Now, about 'dob' (day of birth), we can get the age of the user\n",
    "df_balanced['dob']= df_balanced['dob'].dt.year\n",
    "df_balanced = df_balanced.rename(columns = {'dob': 'age'})"
   ]
  },
  {
   "cell_type": "code",
   "execution_count": 28,
   "id": "aaf39e1e",
   "metadata": {
    "execution": {
     "iopub.execute_input": "2024-05-22T14:17:08.362435Z",
     "iopub.status.busy": "2024-05-22T14:17:08.361963Z",
     "iopub.status.idle": "2024-05-22T14:17:08.368996Z",
     "shell.execute_reply": "2024-05-22T14:17:08.367545Z"
    },
    "papermill": {
     "duration": 0.034657,
     "end_time": "2024-05-22T14:17:08.371635",
     "exception": false,
     "start_time": "2024-05-22T14:17:08.336978",
     "status": "completed"
    },
    "tags": []
   },
   "outputs": [],
   "source": [
    "from datetime import datetime\n",
    "df_balanced['age'] = datetime.now().year - df_balanced['age']"
   ]
  },
  {
   "cell_type": "code",
   "execution_count": 29,
   "id": "3b6126b0",
   "metadata": {
    "execution": {
     "iopub.execute_input": "2024-05-22T14:17:08.423042Z",
     "iopub.status.busy": "2024-05-22T14:17:08.422502Z",
     "iopub.status.idle": "2024-05-22T14:17:08.440143Z",
     "shell.execute_reply": "2024-05-22T14:17:08.438934Z"
    },
    "papermill": {
     "duration": 0.04581,
     "end_time": "2024-05-22T14:17:08.442751",
     "exception": false,
     "start_time": "2024-05-22T14:17:08.396941",
     "status": "completed"
    },
    "tags": []
   },
   "outputs": [
    {
     "data": {
      "text/plain": [
       "age\n",
       "19      7\n",
       "20     32\n",
       "21     21\n",
       "22     12\n",
       "23     58\n",
       "       ..\n",
       "96     41\n",
       "97     54\n",
       "98     33\n",
       "99     11\n",
       "100     7\n",
       "Name: is_fraud, Length: 82, dtype: int64"
      ]
     },
     "execution_count": 29,
     "metadata": {},
     "output_type": "execute_result"
    }
   ],
   "source": [
    "# Analyzing how many frauds occur for each age group\n",
    "df_balanced[df_balanced['is_fraud'] == 1].groupby('age').count()['is_fraud']"
   ]
  },
  {
   "cell_type": "code",
   "execution_count": 30,
   "id": "f326d4fe",
   "metadata": {
    "execution": {
     "iopub.execute_input": "2024-05-22T14:17:08.492945Z",
     "iopub.status.busy": "2024-05-22T14:17:08.492474Z",
     "iopub.status.idle": "2024-05-22T14:17:08.511698Z",
     "shell.execute_reply": "2024-05-22T14:17:08.510249Z"
    },
    "papermill": {
     "duration": 0.047252,
     "end_time": "2024-05-22T14:17:08.514571",
     "exception": false,
     "start_time": "2024-05-22T14:17:08.467319",
     "status": "completed"
    },
    "tags": []
   },
   "outputs": [
    {
     "name": "stdout",
     "output_type": "stream",
     "text": [
      "<class 'pandas.core.frame.DataFrame'>\n",
      "Index: 19302 entries, 2449 to 135673\n",
      "Data columns (total 10 columns):\n",
      " #   Column            Non-Null Count  Dtype  \n",
      "---  ------            --------------  -----  \n",
      " 0   hour_transaction  19302 non-null  object \n",
      " 1   category          19302 non-null  object \n",
      " 2   amt               19302 non-null  float64\n",
      " 3   city              19302 non-null  object \n",
      " 4   state             19302 non-null  object \n",
      " 5   lat               19302 non-null  float64\n",
      " 6   long              19302 non-null  float64\n",
      " 7   city_pop          19302 non-null  int64  \n",
      " 8   age               19302 non-null  int32  \n",
      " 9   is_fraud          19302 non-null  int64  \n",
      "dtypes: float64(3), int32(1), int64(2), object(4)\n",
      "memory usage: 1.5+ MB\n"
     ]
    }
   ],
   "source": [
    "df_balanced.info()"
   ]
  },
  {
   "cell_type": "markdown",
   "id": "cd677ff6",
   "metadata": {
    "papermill": {
     "duration": 0.023277,
     "end_time": "2024-05-22T14:17:08.561544",
     "exception": false,
     "start_time": "2024-05-22T14:17:08.538267",
     "status": "completed"
    },
    "tags": []
   },
   "source": [
    "### Label Encoding"
   ]
  },
  {
   "cell_type": "markdown",
   "id": "1ceb150b",
   "metadata": {
    "papermill": {
     "duration": 0.023012,
     "end_time": "2024-05-22T14:17:08.608007",
     "exception": false,
     "start_time": "2024-05-22T14:17:08.584995",
     "status": "completed"
    },
    "tags": []
   },
   "source": [
    "Using label encoding for categorical data"
   ]
  },
  {
   "cell_type": "code",
   "execution_count": 31,
   "id": "c6a43020",
   "metadata": {
    "execution": {
     "iopub.execute_input": "2024-05-22T14:17:08.657643Z",
     "iopub.status.busy": "2024-05-22T14:17:08.656358Z",
     "iopub.status.idle": "2024-05-22T14:17:08.663676Z",
     "shell.execute_reply": "2024-05-22T14:17:08.662418Z"
    },
    "papermill": {
     "duration": 0.034911,
     "end_time": "2024-05-22T14:17:08.666362",
     "exception": false,
     "start_time": "2024-05-22T14:17:08.631451",
     "status": "completed"
    },
    "tags": []
   },
   "outputs": [],
   "source": [
    "NUMERICAL_FEATURES = [i for i in df_balanced.columns if df_balanced[i].dtype == 'int64'\\\n",
    "                      or df_balanced[i].dtype =='int32' \\\n",
    "                      or df_balanced[i].dtype =='float64']\n",
    "CATEGORICAL_FEATURES = [i for i in df_balanced.columns if df_balanced[i].dtype == 'object']"
   ]
  },
  {
   "cell_type": "code",
   "execution_count": 32,
   "id": "eb407568",
   "metadata": {
    "execution": {
     "iopub.execute_input": "2024-05-22T14:17:08.716856Z",
     "iopub.status.busy": "2024-05-22T14:17:08.716414Z",
     "iopub.status.idle": "2024-05-22T14:17:08.723502Z",
     "shell.execute_reply": "2024-05-22T14:17:08.722490Z"
    },
    "papermill": {
     "duration": 0.036012,
     "end_time": "2024-05-22T14:17:08.725993",
     "exception": false,
     "start_time": "2024-05-22T14:17:08.689981",
     "status": "completed"
    },
    "tags": []
   },
   "outputs": [
    {
     "data": {
      "text/plain": [
       "['amt', 'lat', 'long', 'city_pop', 'age', 'is_fraud']"
      ]
     },
     "execution_count": 32,
     "metadata": {},
     "output_type": "execute_result"
    }
   ],
   "source": [
    "NUMERICAL_FEATURES"
   ]
  },
  {
   "cell_type": "code",
   "execution_count": 33,
   "id": "fd048082",
   "metadata": {
    "execution": {
     "iopub.execute_input": "2024-05-22T14:17:08.776009Z",
     "iopub.status.busy": "2024-05-22T14:17:08.774976Z",
     "iopub.status.idle": "2024-05-22T14:17:08.782348Z",
     "shell.execute_reply": "2024-05-22T14:17:08.781221Z"
    },
    "papermill": {
     "duration": 0.035137,
     "end_time": "2024-05-22T14:17:08.785039",
     "exception": false,
     "start_time": "2024-05-22T14:17:08.749902",
     "status": "completed"
    },
    "tags": []
   },
   "outputs": [
    {
     "data": {
      "text/plain": [
       "['hour_transaction', 'category', 'city', 'state']"
      ]
     },
     "execution_count": 33,
     "metadata": {},
     "output_type": "execute_result"
    }
   ],
   "source": [
    "CATEGORICAL_FEATURES"
   ]
  },
  {
   "cell_type": "code",
   "execution_count": 34,
   "id": "db88e858",
   "metadata": {
    "execution": {
     "iopub.execute_input": "2024-05-22T14:17:08.836036Z",
     "iopub.status.busy": "2024-05-22T14:17:08.835575Z",
     "iopub.status.idle": "2024-05-22T14:17:09.045899Z",
     "shell.execute_reply": "2024-05-22T14:17:09.044595Z"
    },
    "papermill": {
     "duration": 0.239237,
     "end_time": "2024-05-22T14:17:09.048914",
     "exception": false,
     "start_time": "2024-05-22T14:17:08.809677",
     "status": "completed"
    },
    "tags": []
   },
   "outputs": [],
   "source": [
    "from sklearn.preprocessing import OrdinalEncoder\n",
    "\n",
    "encoder = OrdinalEncoder()\n",
    "encoder.fit(df_balanced[CATEGORICAL_FEATURES])\n",
    "\n",
    "df_balanced[CATEGORICAL_FEATURES] = encoder.transform(df_balanced[CATEGORICAL_FEATURES])"
   ]
  },
  {
   "cell_type": "code",
   "execution_count": 35,
   "id": "2a41a220",
   "metadata": {
    "execution": {
     "iopub.execute_input": "2024-05-22T14:17:09.099921Z",
     "iopub.status.busy": "2024-05-22T14:17:09.099439Z",
     "iopub.status.idle": "2024-05-22T14:17:09.118739Z",
     "shell.execute_reply": "2024-05-22T14:17:09.117585Z"
    },
    "papermill": {
     "duration": 0.04863,
     "end_time": "2024-05-22T14:17:09.121515",
     "exception": false,
     "start_time": "2024-05-22T14:17:09.072885",
     "status": "completed"
    },
    "tags": []
   },
   "outputs": [
    {
     "data": {
      "text/html": [
       "<div>\n",
       "<style scoped>\n",
       "    .dataframe tbody tr th:only-of-type {\n",
       "        vertical-align: middle;\n",
       "    }\n",
       "\n",
       "    .dataframe tbody tr th {\n",
       "        vertical-align: top;\n",
       "    }\n",
       "\n",
       "    .dataframe thead th {\n",
       "        text-align: right;\n",
       "    }\n",
       "</style>\n",
       "<table border=\"1\" class=\"dataframe\">\n",
       "  <thead>\n",
       "    <tr style=\"text-align: right;\">\n",
       "      <th></th>\n",
       "      <th>hour_transaction</th>\n",
       "      <th>category</th>\n",
       "      <th>amt</th>\n",
       "      <th>city</th>\n",
       "      <th>state</th>\n",
       "      <th>lat</th>\n",
       "      <th>long</th>\n",
       "      <th>city_pop</th>\n",
       "      <th>age</th>\n",
       "      <th>is_fraud</th>\n",
       "    </tr>\n",
       "  </thead>\n",
       "  <tbody>\n",
       "    <tr>\n",
       "      <th>2449</th>\n",
       "      <td>2.0</td>\n",
       "      <td>4.0</td>\n",
       "      <td>281.06</td>\n",
       "      <td>165.0</td>\n",
       "      <td>27.0</td>\n",
       "      <td>35.9946</td>\n",
       "      <td>-81.7266</td>\n",
       "      <td>885</td>\n",
       "      <td>36</td>\n",
       "      <td>1</td>\n",
       "    </tr>\n",
       "    <tr>\n",
       "      <th>2472</th>\n",
       "      <td>2.0</td>\n",
       "      <td>2.0</td>\n",
       "      <td>11.52</td>\n",
       "      <td>733.0</td>\n",
       "      <td>43.0</td>\n",
       "      <td>29.4400</td>\n",
       "      <td>-98.4590</td>\n",
       "      <td>1595797</td>\n",
       "      <td>64</td>\n",
       "      <td>1</td>\n",
       "    </tr>\n",
       "    <tr>\n",
       "      <th>2523</th>\n",
       "      <td>2.0</td>\n",
       "      <td>4.0</td>\n",
       "      <td>276.31</td>\n",
       "      <td>733.0</td>\n",
       "      <td>43.0</td>\n",
       "      <td>29.4400</td>\n",
       "      <td>-98.4590</td>\n",
       "      <td>1595797</td>\n",
       "      <td>64</td>\n",
       "      <td>1</td>\n",
       "    </tr>\n",
       "    <tr>\n",
       "      <th>2546</th>\n",
       "      <td>2.0</td>\n",
       "      <td>2.0</td>\n",
       "      <td>7.03</td>\n",
       "      <td>165.0</td>\n",
       "      <td>27.0</td>\n",
       "      <td>35.9946</td>\n",
       "      <td>-81.7266</td>\n",
       "      <td>885</td>\n",
       "      <td>36</td>\n",
       "      <td>1</td>\n",
       "    </tr>\n",
       "    <tr>\n",
       "      <th>2553</th>\n",
       "      <td>2.0</td>\n",
       "      <td>4.0</td>\n",
       "      <td>275.73</td>\n",
       "      <td>733.0</td>\n",
       "      <td>43.0</td>\n",
       "      <td>29.4400</td>\n",
       "      <td>-98.4590</td>\n",
       "      <td>1595797</td>\n",
       "      <td>64</td>\n",
       "      <td>1</td>\n",
       "    </tr>\n",
       "  </tbody>\n",
       "</table>\n",
       "</div>"
      ],
      "text/plain": [
       "      hour_transaction  category     amt   city  state      lat     long  \\\n",
       "2449               2.0       4.0  281.06  165.0   27.0  35.9946 -81.7266   \n",
       "2472               2.0       2.0   11.52  733.0   43.0  29.4400 -98.4590   \n",
       "2523               2.0       4.0  276.31  733.0   43.0  29.4400 -98.4590   \n",
       "2546               2.0       2.0    7.03  165.0   27.0  35.9946 -81.7266   \n",
       "2553               2.0       4.0  275.73  733.0   43.0  29.4400 -98.4590   \n",
       "\n",
       "      city_pop  age  is_fraud  \n",
       "2449       885   36         1  \n",
       "2472   1595797   64         1  \n",
       "2523   1595797   64         1  \n",
       "2546       885   36         1  \n",
       "2553   1595797   64         1  "
      ]
     },
     "execution_count": 35,
     "metadata": {},
     "output_type": "execute_result"
    }
   ],
   "source": [
    "df_balanced.head()"
   ]
  },
  {
   "cell_type": "markdown",
   "id": "8b8d1605",
   "metadata": {
    "papermill": {
     "duration": 0.023812,
     "end_time": "2024-05-22T14:17:09.169579",
     "exception": false,
     "start_time": "2024-05-22T14:17:09.145767",
     "status": "completed"
    },
    "tags": []
   },
   "source": [
    "### Correcting datatypes"
   ]
  },
  {
   "cell_type": "code",
   "execution_count": 36,
   "id": "0f3944c7",
   "metadata": {
    "execution": {
     "iopub.execute_input": "2024-05-22T14:17:09.219291Z",
     "iopub.status.busy": "2024-05-22T14:17:09.218770Z",
     "iopub.status.idle": "2024-05-22T14:17:09.229605Z",
     "shell.execute_reply": "2024-05-22T14:17:09.228539Z"
    },
    "papermill": {
     "duration": 0.039279,
     "end_time": "2024-05-22T14:17:09.232688",
     "exception": false,
     "start_time": "2024-05-22T14:17:09.193409",
     "status": "completed"
    },
    "tags": []
   },
   "outputs": [],
   "source": [
    "df_balanced[['is_fraud', 'age']] = df_balanced[['is_fraud', 'age']].astype('float64')"
   ]
  },
  {
   "cell_type": "markdown",
   "id": "88d6531b",
   "metadata": {
    "papermill": {
     "duration": 0.023549,
     "end_time": "2024-05-22T14:17:09.280298",
     "exception": false,
     "start_time": "2024-05-22T14:17:09.256749",
     "status": "completed"
    },
    "tags": []
   },
   "source": [
    "### Scaling dataset"
   ]
  },
  {
   "cell_type": "markdown",
   "id": "907f1d21",
   "metadata": {
    "papermill": {
     "duration": 0.024343,
     "end_time": "2024-05-22T14:17:09.328732",
     "exception": false,
     "start_time": "2024-05-22T14:17:09.304389",
     "status": "completed"
    },
    "tags": []
   },
   "source": [
    "As I'm trying different models, such as SVM which relies on distance, I'll scale the dataset."
   ]
  },
  {
   "cell_type": "code",
   "execution_count": 37,
   "id": "ac293ac7",
   "metadata": {
    "execution": {
     "iopub.execute_input": "2024-05-22T14:17:09.381094Z",
     "iopub.status.busy": "2024-05-22T14:17:09.380626Z",
     "iopub.status.idle": "2024-05-22T14:17:09.644774Z",
     "shell.execute_reply": "2024-05-22T14:17:09.643586Z"
    },
    "papermill": {
     "duration": 0.293089,
     "end_time": "2024-05-22T14:17:09.647359",
     "exception": false,
     "start_time": "2024-05-22T14:17:09.354270",
     "status": "completed"
    },
    "tags": []
   },
   "outputs": [
    {
     "data": {
      "text/plain": [
       "<Axes: >"
      ]
     },
     "execution_count": 37,
     "metadata": {},
     "output_type": "execute_result"
    },
    {
     "data": {
      "image/png": "[encoded data removed]",
      "text/plain": [
       "<Figure size 640x480 with 1 Axes>"
      ]
     },
     "metadata": {},
     "output_type": "display_data"
    }
   ],
   "source": [
    "sns.boxplot(df_balanced[NUMERICAL_FEATURES])"
   ]
  },
  {
   "cell_type": "code",
   "execution_count": 38,
   "id": "10308549",
   "metadata": {
    "execution": {
     "iopub.execute_input": "2024-05-22T14:17:09.696442Z",
     "iopub.status.busy": "2024-05-22T14:17:09.695303Z",
     "iopub.status.idle": "2024-05-22T14:17:09.907083Z",
     "shell.execute_reply": "2024-05-22T14:17:09.906007Z"
    },
    "papermill": {
     "duration": 0.239114,
     "end_time": "2024-05-22T14:17:09.909733",
     "exception": false,
     "start_time": "2024-05-22T14:17:09.670619",
     "status": "completed"
    },
    "tags": []
   },
   "outputs": [
    {
     "data": {
      "text/plain": [
       "<Axes: >"
      ]
     },
     "execution_count": 38,
     "metadata": {},
     "output_type": "execute_result"
    },
    {
     "data": {
      "image/png": "[encoded data removed]",
      "text/plain": [
       "<Figure size 640x480 with 1 Axes>"
      ]
     },
     "metadata": {},
     "output_type": "display_data"
    }
   ],
   "source": [
    "sns.boxplot(df_balanced[['amt']])"
   ]
  },
  {
   "cell_type": "markdown",
   "id": "4a8357ea",
   "metadata": {
    "papermill": {
     "duration": 0.023248,
     "end_time": "2024-05-22T14:17:09.958223",
     "exception": false,
     "start_time": "2024-05-22T14:17:09.934975",
     "status": "completed"
    },
    "tags": []
   },
   "source": [
    "And not all of them seem to follow a gaussian normal distribution, so we are using normal minmax scaler."
   ]
  },
  {
   "cell_type": "code",
   "execution_count": 39,
   "id": "b9ab1a80",
   "metadata": {
    "execution": {
     "iopub.execute_input": "2024-05-22T14:17:10.007782Z",
     "iopub.status.busy": "2024-05-22T14:17:10.007343Z",
     "iopub.status.idle": "2024-05-22T14:17:10.019989Z",
     "shell.execute_reply": "2024-05-22T14:17:10.018830Z"
    },
    "papermill": {
     "duration": 0.040683,
     "end_time": "2024-05-22T14:17:10.022918",
     "exception": false,
     "start_time": "2024-05-22T14:17:09.982235",
     "status": "completed"
    },
    "tags": []
   },
   "outputs": [],
   "source": [
    "# Using min max scaler\n",
    "from sklearn.preprocessing import MinMaxScaler\n",
    "\n",
    "scaler = MinMaxScaler()\n",
    "df_scaled = scaler.fit_transform(df_balanced)\n",
    "df_scaled = pd.DataFrame(df_scaled)"
   ]
  },
  {
   "cell_type": "code",
   "execution_count": 40,
   "id": "be29758b",
   "metadata": {
    "execution": {
     "iopub.execute_input": "2024-05-22T14:17:10.073836Z",
     "iopub.status.busy": "2024-05-22T14:17:10.072722Z",
     "iopub.status.idle": "2024-05-22T14:17:10.078724Z",
     "shell.execute_reply": "2024-05-22T14:17:10.077270Z"
    },
    "papermill": {
     "duration": 0.033531,
     "end_time": "2024-05-22T14:17:10.081203",
     "exception": false,
     "start_time": "2024-05-22T14:17:10.047672",
     "status": "completed"
    },
    "tags": []
   },
   "outputs": [],
   "source": [
    "last_column = df_scaled.shape[1]-1"
   ]
  },
  {
   "cell_type": "code",
   "execution_count": 41,
   "id": "c06c6c7f",
   "metadata": {
    "execution": {
     "iopub.execute_input": "2024-05-22T14:17:10.132262Z",
     "iopub.status.busy": "2024-05-22T14:17:10.131776Z",
     "iopub.status.idle": "2024-05-22T14:17:10.144533Z",
     "shell.execute_reply": "2024-05-22T14:17:10.142958Z"
    },
    "papermill": {
     "duration": 0.041159,
     "end_time": "2024-05-22T14:17:10.147355",
     "exception": false,
     "start_time": "2024-05-22T14:17:10.106196",
     "status": "completed"
    },
    "tags": []
   },
   "outputs": [
    {
     "name": "stdout",
     "output_type": "stream",
     "text": [
      "Not fraud: 9651\n",
      "Fraud: 9651\n"
     ]
    }
   ],
   "source": [
    "print(f\"Not fraud: {df_scaled[df_scaled[last_column] == 0].count()[last_column]}\")\n",
    "print(f\"Fraud: {df_scaled[df_scaled[last_column] == 1].count()[last_column]}\")"
   ]
  },
  {
   "cell_type": "code",
   "execution_count": 42,
   "id": "6f9c14b1",
   "metadata": {
    "execution": {
     "iopub.execute_input": "2024-05-22T14:17:10.199832Z",
     "iopub.status.busy": "2024-05-22T14:17:10.199398Z",
     "iopub.status.idle": "2024-05-22T14:17:10.219358Z",
     "shell.execute_reply": "2024-05-22T14:17:10.218026Z"
    },
    "papermill": {
     "duration": 0.049629,
     "end_time": "2024-05-22T14:17:10.221957",
     "exception": false,
     "start_time": "2024-05-22T14:17:10.172328",
     "status": "completed"
    },
    "tags": []
   },
   "outputs": [
    {
     "data": {
      "text/html": [
       "<div>\n",
       "<style scoped>\n",
       "    .dataframe tbody tr th:only-of-type {\n",
       "        vertical-align: middle;\n",
       "    }\n",
       "\n",
       "    .dataframe tbody tr th {\n",
       "        vertical-align: top;\n",
       "    }\n",
       "\n",
       "    .dataframe thead th {\n",
       "        text-align: right;\n",
       "    }\n",
       "</style>\n",
       "<table border=\"1\" class=\"dataframe\">\n",
       "  <thead>\n",
       "    <tr style=\"text-align: right;\">\n",
       "      <th></th>\n",
       "      <th>0</th>\n",
       "      <th>1</th>\n",
       "      <th>2</th>\n",
       "      <th>3</th>\n",
       "      <th>4</th>\n",
       "      <th>5</th>\n",
       "      <th>6</th>\n",
       "      <th>7</th>\n",
       "      <th>8</th>\n",
       "      <th>is_fraud</th>\n",
       "    </tr>\n",
       "  </thead>\n",
       "  <tbody>\n",
       "    <tr>\n",
       "      <th>0</th>\n",
       "      <td>1.0</td>\n",
       "      <td>0.307692</td>\n",
       "      <td>0.037304</td>\n",
       "      <td>0.182320</td>\n",
       "      <td>0.54</td>\n",
       "      <td>0.342164</td>\n",
       "      <td>0.859026</td>\n",
       "      <td>0.000297</td>\n",
       "      <td>0.209877</td>\n",
       "      <td>1.0</td>\n",
       "    </tr>\n",
       "    <tr>\n",
       "      <th>1</th>\n",
       "      <td>1.0</td>\n",
       "      <td>0.153846</td>\n",
       "      <td>0.001401</td>\n",
       "      <td>0.809945</td>\n",
       "      <td>0.86</td>\n",
       "      <td>0.201707</td>\n",
       "      <td>0.687801</td>\n",
       "      <td>0.549003</td>\n",
       "      <td>0.555556</td>\n",
       "      <td>1.0</td>\n",
       "    </tr>\n",
       "    <tr>\n",
       "      <th>2</th>\n",
       "      <td>1.0</td>\n",
       "      <td>0.307692</td>\n",
       "      <td>0.036672</td>\n",
       "      <td>0.809945</td>\n",
       "      <td>0.86</td>\n",
       "      <td>0.201707</td>\n",
       "      <td>0.687801</td>\n",
       "      <td>0.549003</td>\n",
       "      <td>0.555556</td>\n",
       "      <td>1.0</td>\n",
       "    </tr>\n",
       "    <tr>\n",
       "      <th>3</th>\n",
       "      <td>1.0</td>\n",
       "      <td>0.153846</td>\n",
       "      <td>0.000803</td>\n",
       "      <td>0.182320</td>\n",
       "      <td>0.54</td>\n",
       "      <td>0.342164</td>\n",
       "      <td>0.859026</td>\n",
       "      <td>0.000297</td>\n",
       "      <td>0.209877</td>\n",
       "      <td>1.0</td>\n",
       "    </tr>\n",
       "    <tr>\n",
       "      <th>4</th>\n",
       "      <td>1.0</td>\n",
       "      <td>0.307692</td>\n",
       "      <td>0.036594</td>\n",
       "      <td>0.809945</td>\n",
       "      <td>0.86</td>\n",
       "      <td>0.201707</td>\n",
       "      <td>0.687801</td>\n",
       "      <td>0.549003</td>\n",
       "      <td>0.555556</td>\n",
       "      <td>1.0</td>\n",
       "    </tr>\n",
       "  </tbody>\n",
       "</table>\n",
       "</div>"
      ],
      "text/plain": [
       "     0         1         2         3     4         5         6         7  \\\n",
       "0  1.0  0.307692  0.037304  0.182320  0.54  0.342164  0.859026  0.000297   \n",
       "1  1.0  0.153846  0.001401  0.809945  0.86  0.201707  0.687801  0.549003   \n",
       "2  1.0  0.307692  0.036672  0.809945  0.86  0.201707  0.687801  0.549003   \n",
       "3  1.0  0.153846  0.000803  0.182320  0.54  0.342164  0.859026  0.000297   \n",
       "4  1.0  0.307692  0.036594  0.809945  0.86  0.201707  0.687801  0.549003   \n",
       "\n",
       "          8  is_fraud  \n",
       "0  0.209877       1.0  \n",
       "1  0.555556       1.0  \n",
       "2  0.555556       1.0  \n",
       "3  0.209877       1.0  \n",
       "4  0.555556       1.0  "
      ]
     },
     "execution_count": 42,
     "metadata": {},
     "output_type": "execute_result"
    }
   ],
   "source": [
    "df_scaled.rename(columns={last_column: 'is_fraud'}, inplace=True)\n",
    "df_scaled.head()"
   ]
  },
  {
   "cell_type": "markdown",
   "id": "ebf58a40",
   "metadata": {
    "papermill": {
     "duration": 0.024294,
     "end_time": "2024-05-22T14:17:10.271119",
     "exception": false,
     "start_time": "2024-05-22T14:17:10.246825",
     "status": "completed"
    },
    "tags": []
   },
   "source": [
    "# Modeling"
   ]
  },
  {
   "cell_type": "code",
   "execution_count": 43,
   "id": "8e0bab71",
   "metadata": {
    "execution": {
     "iopub.execute_input": "2024-05-22T14:17:10.322971Z",
     "iopub.status.busy": "2024-05-22T14:17:10.322528Z",
     "iopub.status.idle": "2024-05-22T14:17:10.550370Z",
     "shell.execute_reply": "2024-05-22T14:17:10.548939Z"
    },
    "papermill": {
     "duration": 0.257672,
     "end_time": "2024-05-22T14:17:10.553580",
     "exception": false,
     "start_time": "2024-05-22T14:17:10.295908",
     "status": "completed"
    },
    "tags": []
   },
   "outputs": [],
   "source": [
    "from sklearn.linear_model import LogisticRegression\n",
    "from sklearn.metrics import classification_report\n",
    "from sklearn.metrics import confusion_matrix, ConfusionMatrixDisplay\n",
    "from sklearn.model_selection import train_test_split"
   ]
  },
  {
   "cell_type": "code",
   "execution_count": 44,
   "id": "d9ffedc9",
   "metadata": {
    "execution": {
     "iopub.execute_input": "2024-05-22T14:17:10.607258Z",
     "iopub.status.busy": "2024-05-22T14:17:10.606070Z",
     "iopub.status.idle": "2024-05-22T14:17:10.613395Z",
     "shell.execute_reply": "2024-05-22T14:17:10.612313Z"
    },
    "papermill": {
     "duration": 0.036819,
     "end_time": "2024-05-22T14:17:10.615843",
     "exception": false,
     "start_time": "2024-05-22T14:17:10.579024",
     "status": "completed"
    },
    "tags": []
   },
   "outputs": [],
   "source": [
    "# X = feature values, all the columns except the last column\n",
    "X = df_scaled.drop(columns = 'is_fraud')\n",
    "\n",
    "# y = target values, last column of the data frame\n",
    "y = df_scaled['is_fraud']"
   ]
  },
  {
   "cell_type": "code",
   "execution_count": 45,
   "id": "5e2e4ed9",
   "metadata": {
    "execution": {
     "iopub.execute_input": "2024-05-22T14:17:10.668627Z",
     "iopub.status.busy": "2024-05-22T14:17:10.668191Z",
     "iopub.status.idle": "2024-05-22T14:17:10.678477Z",
     "shell.execute_reply": "2024-05-22T14:17:10.677345Z"
    },
    "papermill": {
     "duration": 0.039968,
     "end_time": "2024-05-22T14:17:10.681119",
     "exception": false,
     "start_time": "2024-05-22T14:17:10.641151",
     "status": "completed"
    },
    "tags": []
   },
   "outputs": [],
   "source": [
    "# Spliting train and test - hold out\n",
    "x_train, x_test, y_train, y_test = train_test_split(X, y, test_size=0.2, random_state=42)"
   ]
  },
  {
   "cell_type": "markdown",
   "id": "d318c3a4",
   "metadata": {
    "papermill": {
     "duration": 0.02439,
     "end_time": "2024-05-22T14:17:10.730888",
     "exception": false,
     "start_time": "2024-05-22T14:17:10.706498",
     "status": "completed"
    },
    "tags": []
   },
   "source": [
    "# Logistic Regression model"
   ]
  },
  {
   "cell_type": "code",
   "execution_count": 46,
   "id": "b071e21b",
   "metadata": {
    "execution": {
     "iopub.execute_input": "2024-05-22T14:17:10.783380Z",
     "iopub.status.busy": "2024-05-22T14:17:10.782151Z",
     "iopub.status.idle": "2024-05-22T14:17:10.873688Z",
     "shell.execute_reply": "2024-05-22T14:17:10.872375Z"
    },
    "papermill": {
     "duration": 0.121387,
     "end_time": "2024-05-22T14:17:10.877173",
     "exception": false,
     "start_time": "2024-05-22T14:17:10.755786",
     "status": "completed"
    },
    "tags": []
   },
   "outputs": [
    {
     "data": {
      "text/html": [
       "<style>#sk-container-id-1 {color: black;background-color: white;}#sk-container-id-1 pre{padding: 0;}#sk-container-id-1 div.sk-toggleable {background-color: white;}#sk-container-id-1 label.sk-toggleable__label {cursor: pointer;display: block;width: 100%;margin-bottom: 0;padding: 0.3em;box-sizing: border-box;text-align: center;}#sk-container-id-1 label.sk-toggleable__label-arrow:before {content: \"▸\";float: left;margin-right: 0.25em;color: #696969;}#sk-container-id-1 label.sk-toggleable__label-arrow:hover:before {color: black;}#sk-container-id-1 div.sk-estimator:hover label.sk-toggleable__label-arrow:before {color: black;}#sk-container-id-1 div.sk-toggleable__content {max-height: 0;max-width: 0;overflow: hidden;text-align: left;background-color: #f0f8ff;}#sk-container-id-1 div.sk-toggleable__content pre {margin: 0.2em;color: black;border-radius: 0.25em;background-color: #f0f8ff;}#sk-container-id-1 input.sk-toggleable__control:checked~div.sk-toggleable__content {max-height: 200px;max-width: 100%;overflow: auto;}#sk-container-id-1 input.sk-toggleable__control:checked~label.sk-toggleable__label-arrow:before {content: \"▾\";}#sk-container-id-1 div.sk-estimator input.sk-toggleable__control:checked~label.sk-toggleable__label {background-color: #d4ebff;}#sk-container-id-1 div.sk-label input.sk-toggleable__control:checked~label.sk-toggleable__label {background-color: #d4ebff;}#sk-container-id-1 input.sk-hidden--visually {border: 0;clip: rect(1px 1px 1px 1px);clip: rect(1px, 1px, 1px, 1px);height: 1px;margin: -1px;overflow: hidden;padding: 0;position: absolute;width: 1px;}#sk-container-id-1 div.sk-estimator {font-family: monospace;background-color: #f0f8ff;border: 1px dotted black;border-radius: 0.25em;box-sizing: border-box;margin-bottom: 0.5em;}#sk-container-id-1 div.sk-estimator:hover {background-color: #d4ebff;}#sk-container-id-1 div.sk-parallel-item::after {content: \"\";width: 100%;border-bottom: 1px solid gray;flex-grow: 1;}#sk-container-id-1 div.sk-label:hover label.sk-toggleable__label {background-color: #d4ebff;}#sk-container-id-1 div.sk-serial::before {content: \"\";position: absolute;border-left: 1px solid gray;box-sizing: border-box;top: 0;bottom: 0;left: 50%;z-index: 0;}#sk-container-id-1 div.sk-serial {display: flex;flex-direction: column;align-items: center;background-color: white;padding-right: 0.2em;padding-left: 0.2em;position: relative;}#sk-container-id-1 div.sk-item {position: relative;z-index: 1;}#sk-container-id-1 div.sk-parallel {display: flex;align-items: stretch;justify-content: center;background-color: white;position: relative;}#sk-container-id-1 div.sk-item::before, #sk-container-id-1 div.sk-parallel-item::before {content: \"\";position: absolute;border-left: 1px solid gray;box-sizing: border-box;top: 0;bottom: 0;left: 50%;z-index: -1;}#sk-container-id-1 div.sk-parallel-item {display: flex;flex-direction: column;z-index: 1;position: relative;background-color: white;}#sk-container-id-1 div.sk-parallel-item:first-child::after {align-self: flex-end;width: 50%;}#sk-container-id-1 div.sk-parallel-item:last-child::after {align-self: flex-start;width: 50%;}#sk-container-id-1 div.sk-parallel-item:only-child::after {width: 0;}#sk-container-id-1 div.sk-dashed-wrapped {border: 1px dashed gray;margin: 0 0.4em 0.5em 0.4em;box-sizing: border-box;padding-bottom: 0.4em;background-color: white;}#sk-container-id-1 div.sk-label label {font-family: monospace;font-weight: bold;display: inline-block;line-height: 1.2em;}#sk-container-id-1 div.sk-label-container {text-align: center;}#sk-container-id-1 div.sk-container {/* jupyter's `normalize.less` sets `[hidden] { display: none; }` but bootstrap.min.css set `[hidden] { display: none !important; }` so we also need the `!important` here to be able to override the default hidden behavior on the sphinx rendered scikit-learn.org. See: https://github.com/scikit-learn/scikit-learn/issues/21755 */display: inline-block !important;position: relative;}#sk-container-id-1 div.sk-text-repr-fallback {display: none;}</style><div id=\"sk-container-id-1\" class=\"sk-top-container\"><div class=\"sk-text-repr-fallback\"><pre>LogisticRegression()</pre><b>In a Jupyter environment, please rerun this cell to show the HTML representation or trust the notebook. <br />On GitHub, the HTML representation is unable to render, please try loading this page with nbviewer.org.</b></div><div class=\"sk-container\" hidden><div class=\"sk-item\"><div class=\"sk-estimator sk-toggleable\"><input class=\"sk-toggleable__control sk-hidden--visually\" id=\"sk-estimator-id-1\" type=\"checkbox\" checked><label for=\"sk-estimator-id-1\" class=\"sk-toggleable__label sk-toggleable__label-arrow\">LogisticRegression</label><div class=\"sk-toggleable__content\"><pre>LogisticRegression()</pre></div></div></div></div></div>"
      ],
      "text/plain": [
       "LogisticRegression()"
      ]
     },
     "execution_count": 46,
     "metadata": {},
     "output_type": "execute_result"
    }
   ],
   "source": [
    "# Training\n",
    "model = LogisticRegression()\n",
    "model.fit(x_train, y_train)"
   ]
  },
  {
   "cell_type": "code",
   "execution_count": 47,
   "id": "5e7a5c6b",
   "metadata": {
    "execution": {
     "iopub.execute_input": "2024-05-22T14:17:10.967616Z",
     "iopub.status.busy": "2024-05-22T14:17:10.966999Z",
     "iopub.status.idle": "2024-05-22T14:17:10.975190Z",
     "shell.execute_reply": "2024-05-22T14:17:10.973940Z"
    },
    "papermill": {
     "duration": 0.058044,
     "end_time": "2024-05-22T14:17:10.977988",
     "exception": false,
     "start_time": "2024-05-22T14:17:10.919944",
     "status": "completed"
    },
    "tags": []
   },
   "outputs": [],
   "source": [
    "# Now let's define a function to get the predictions and set the threshold\n",
    "\n",
    "def predict(model, test_set, threshold):\n",
    "    predictions = model.predict(test_set)\n",
    "    pred_threshold = model.predict_proba(test_set)\n",
    "    test_set[\"prediction\"] = predictions\n",
    "    test_set[\"pred_threshold\"] = (pred_threshold >= threshold)[:, 1].astype(float)\n",
    "    return test_set"
   ]
  },
  {
   "cell_type": "code",
   "execution_count": 48,
   "id": "e2abbcd5",
   "metadata": {
    "execution": {
     "iopub.execute_input": "2024-05-22T14:17:11.035151Z",
     "iopub.status.busy": "2024-05-22T14:17:11.034667Z",
     "iopub.status.idle": "2024-05-22T14:17:11.071852Z",
     "shell.execute_reply": "2024-05-22T14:17:11.070573Z"
    },
    "papermill": {
     "duration": 0.068241,
     "end_time": "2024-05-22T14:17:11.075113",
     "exception": false,
     "start_time": "2024-05-22T14:17:11.006872",
     "status": "completed"
    },
    "tags": []
   },
   "outputs": [
    {
     "data": {
      "text/html": [
       "<div>\n",
       "<style scoped>\n",
       "    .dataframe tbody tr th:only-of-type {\n",
       "        vertical-align: middle;\n",
       "    }\n",
       "\n",
       "    .dataframe tbody tr th {\n",
       "        vertical-align: top;\n",
       "    }\n",
       "\n",
       "    .dataframe thead th {\n",
       "        text-align: right;\n",
       "    }\n",
       "</style>\n",
       "<table border=\"1\" class=\"dataframe\">\n",
       "  <thead>\n",
       "    <tr style=\"text-align: right;\">\n",
       "      <th></th>\n",
       "      <th>0</th>\n",
       "      <th>1</th>\n",
       "      <th>2</th>\n",
       "      <th>3</th>\n",
       "      <th>4</th>\n",
       "      <th>5</th>\n",
       "      <th>6</th>\n",
       "      <th>7</th>\n",
       "      <th>8</th>\n",
       "      <th>prediction</th>\n",
       "      <th>pred_threshold</th>\n",
       "    </tr>\n",
       "  </thead>\n",
       "  <tbody>\n",
       "    <tr>\n",
       "      <th>10529</th>\n",
       "      <td>0.0</td>\n",
       "      <td>0.923077</td>\n",
       "      <td>0.000032</td>\n",
       "      <td>0.230939</td>\n",
       "      <td>0.18</td>\n",
       "      <td>0.190112</td>\n",
       "      <td>0.863930</td>\n",
       "      <td>0.030520</td>\n",
       "      <td>0.209877</td>\n",
       "      <td>0.0</td>\n",
       "      <td>0.0</td>\n",
       "    </tr>\n",
       "    <tr>\n",
       "      <th>15361</th>\n",
       "      <td>0.5</td>\n",
       "      <td>0.153846</td>\n",
       "      <td>0.008027</td>\n",
       "      <td>0.717127</td>\n",
       "      <td>0.02</td>\n",
       "      <td>0.306858</td>\n",
       "      <td>0.797742</td>\n",
       "      <td>0.001980</td>\n",
       "      <td>0.654321</td>\n",
       "      <td>0.0</td>\n",
       "      <td>0.0</td>\n",
       "    </tr>\n",
       "    <tr>\n",
       "      <th>12160</th>\n",
       "      <td>0.0</td>\n",
       "      <td>0.769231</td>\n",
       "      <td>0.010819</td>\n",
       "      <td>0.818785</td>\n",
       "      <td>0.76</td>\n",
       "      <td>0.434610</td>\n",
       "      <td>0.914594</td>\n",
       "      <td>0.000275</td>\n",
       "      <td>0.283951</td>\n",
       "      <td>0.0</td>\n",
       "      <td>0.0</td>\n",
       "    </tr>\n",
       "    <tr>\n",
       "      <th>2953</th>\n",
       "      <td>1.0</td>\n",
       "      <td>0.384615</td>\n",
       "      <td>0.002729</td>\n",
       "      <td>0.709392</td>\n",
       "      <td>0.86</td>\n",
       "      <td>0.244708</td>\n",
       "      <td>0.635407</td>\n",
       "      <td>0.004378</td>\n",
       "      <td>0.222222</td>\n",
       "      <td>0.0</td>\n",
       "      <td>1.0</td>\n",
       "    </tr>\n",
       "    <tr>\n",
       "      <th>15870</th>\n",
       "      <td>0.0</td>\n",
       "      <td>0.000000</td>\n",
       "      <td>0.009766</td>\n",
       "      <td>0.477348</td>\n",
       "      <td>0.46</td>\n",
       "      <td>0.518806</td>\n",
       "      <td>0.720395</td>\n",
       "      <td>0.000511</td>\n",
       "      <td>0.148148</td>\n",
       "      <td>0.0</td>\n",
       "      <td>0.0</td>\n",
       "    </tr>\n",
       "    <tr>\n",
       "      <th>...</th>\n",
       "      <td>...</td>\n",
       "      <td>...</td>\n",
       "      <td>...</td>\n",
       "      <td>...</td>\n",
       "      <td>...</td>\n",
       "      <td>...</td>\n",
       "      <td>...</td>\n",
       "      <td>...</td>\n",
       "      <td>...</td>\n",
       "      <td>...</td>\n",
       "      <td>...</td>\n",
       "    </tr>\n",
       "    <tr>\n",
       "      <th>17155</th>\n",
       "      <td>0.0</td>\n",
       "      <td>0.692308</td>\n",
       "      <td>0.000574</td>\n",
       "      <td>0.093923</td>\n",
       "      <td>0.42</td>\n",
       "      <td>0.514942</td>\n",
       "      <td>0.979377</td>\n",
       "      <td>0.001101</td>\n",
       "      <td>0.098765</td>\n",
       "      <td>0.0</td>\n",
       "      <td>0.0</td>\n",
       "    </tr>\n",
       "    <tr>\n",
       "      <th>17454</th>\n",
       "      <td>0.5</td>\n",
       "      <td>0.153846</td>\n",
       "      <td>0.006062</td>\n",
       "      <td>0.976796</td>\n",
       "      <td>0.48</td>\n",
       "      <td>0.358675</td>\n",
       "      <td>0.732927</td>\n",
       "      <td>0.000254</td>\n",
       "      <td>0.246914</td>\n",
       "      <td>0.0</td>\n",
       "      <td>0.0</td>\n",
       "    </tr>\n",
       "    <tr>\n",
       "      <th>12681</th>\n",
       "      <td>1.0</td>\n",
       "      <td>1.000000</td>\n",
       "      <td>0.001007</td>\n",
       "      <td>0.977901</td>\n",
       "      <td>0.20</td>\n",
       "      <td>0.232642</td>\n",
       "      <td>0.832440</td>\n",
       "      <td>0.001172</td>\n",
       "      <td>0.679012</td>\n",
       "      <td>0.0</td>\n",
       "      <td>0.0</td>\n",
       "    </tr>\n",
       "    <tr>\n",
       "      <th>15764</th>\n",
       "      <td>0.0</td>\n",
       "      <td>0.384615</td>\n",
       "      <td>0.000481</td>\n",
       "      <td>0.667403</td>\n",
       "      <td>0.08</td>\n",
       "      <td>0.380590</td>\n",
       "      <td>0.444976</td>\n",
       "      <td>0.131228</td>\n",
       "      <td>0.382716</td>\n",
       "      <td>0.0</td>\n",
       "      <td>0.0</td>\n",
       "    </tr>\n",
       "    <tr>\n",
       "      <th>16722</th>\n",
       "      <td>0.0</td>\n",
       "      <td>0.461538</td>\n",
       "      <td>0.009020</td>\n",
       "      <td>0.801105</td>\n",
       "      <td>0.36</td>\n",
       "      <td>0.218818</td>\n",
       "      <td>0.765731</td>\n",
       "      <td>0.003459</td>\n",
       "      <td>0.345679</td>\n",
       "      <td>0.0</td>\n",
       "      <td>0.0</td>\n",
       "    </tr>\n",
       "  </tbody>\n",
       "</table>\n",
       "<p>3861 rows × 11 columns</p>\n",
       "</div>"
      ],
      "text/plain": [
       "         0         1         2         3     4         5         6         7  \\\n",
       "10529  0.0  0.923077  0.000032  0.230939  0.18  0.190112  0.863930  0.030520   \n",
       "15361  0.5  0.153846  0.008027  0.717127  0.02  0.306858  0.797742  0.001980   \n",
       "12160  0.0  0.769231  0.010819  0.818785  0.76  0.434610  0.914594  0.000275   \n",
       "2953   1.0  0.384615  0.002729  0.709392  0.86  0.244708  0.635407  0.004378   \n",
       "15870  0.0  0.000000  0.009766  0.477348  0.46  0.518806  0.720395  0.000511   \n",
       "...    ...       ...       ...       ...   ...       ...       ...       ...   \n",
       "17155  0.0  0.692308  0.000574  0.093923  0.42  0.514942  0.979377  0.001101   \n",
       "17454  0.5  0.153846  0.006062  0.976796  0.48  0.358675  0.732927  0.000254   \n",
       "12681  1.0  1.000000  0.001007  0.977901  0.20  0.232642  0.832440  0.001172   \n",
       "15764  0.0  0.384615  0.000481  0.667403  0.08  0.380590  0.444976  0.131228   \n",
       "16722  0.0  0.461538  0.009020  0.801105  0.36  0.218818  0.765731  0.003459   \n",
       "\n",
       "              8  prediction  pred_threshold  \n",
       "10529  0.209877         0.0             0.0  \n",
       "15361  0.654321         0.0             0.0  \n",
       "12160  0.283951         0.0             0.0  \n",
       "2953   0.222222         0.0             1.0  \n",
       "15870  0.148148         0.0             0.0  \n",
       "...         ...         ...             ...  \n",
       "17155  0.098765         0.0             0.0  \n",
       "17454  0.246914         0.0             0.0  \n",
       "12681  0.679012         0.0             0.0  \n",
       "15764  0.382716         0.0             0.0  \n",
       "16722  0.345679         0.0             0.0  \n",
       "\n",
       "[3861 rows x 11 columns]"
      ]
     },
     "execution_count": 48,
     "metadata": {},
     "output_type": "execute_result"
    }
   ],
   "source": [
    "# Use 0.4 as threshold for LR model\n",
    "predict(model, x_test, 0.4)"
   ]
  },
  {
   "cell_type": "markdown",
   "id": "29eb6a12",
   "metadata": {
    "papermill": {
     "duration": 0.043886,
     "end_time": "2024-05-22T14:17:11.164331",
     "exception": false,
     "start_time": "2024-05-22T14:17:11.120445",
     "status": "completed"
    },
    "tags": []
   },
   "source": [
    "The 'prediction' column is for standard threshold (0.5) and the 'pred_threshold' stands for our results with the changed threshold."
   ]
  },
  {
   "cell_type": "code",
   "execution_count": 49,
   "id": "9c76e096",
   "metadata": {
    "execution": {
     "iopub.execute_input": "2024-05-22T14:17:11.218394Z",
     "iopub.status.busy": "2024-05-22T14:17:11.217947Z",
     "iopub.status.idle": "2024-05-22T14:17:11.223869Z",
     "shell.execute_reply": "2024-05-22T14:17:11.222813Z"
    },
    "papermill": {
     "duration": 0.035452,
     "end_time": "2024-05-22T14:17:11.226212",
     "exception": false,
     "start_time": "2024-05-22T14:17:11.190760",
     "status": "completed"
    },
    "tags": []
   },
   "outputs": [],
   "source": [
    "y_test = pd.DataFrame(y_test)"
   ]
  },
  {
   "cell_type": "code",
   "execution_count": 50,
   "id": "df2ab302",
   "metadata": {
    "execution": {
     "iopub.execute_input": "2024-05-22T14:17:11.281299Z",
     "iopub.status.busy": "2024-05-22T14:17:11.280807Z",
     "iopub.status.idle": "2024-05-22T14:17:11.287488Z",
     "shell.execute_reply": "2024-05-22T14:17:11.286370Z"
    },
    "papermill": {
     "duration": 0.0367,
     "end_time": "2024-05-22T14:17:11.289978",
     "exception": false,
     "start_time": "2024-05-22T14:17:11.253278",
     "status": "completed"
    },
    "tags": []
   },
   "outputs": [],
   "source": [
    "x_test[\"real\"] = y_test[\"is_fraud\"]"
   ]
  },
  {
   "cell_type": "code",
   "execution_count": 51,
   "id": "fdd64fee",
   "metadata": {
    "execution": {
     "iopub.execute_input": "2024-05-22T14:17:11.343733Z",
     "iopub.status.busy": "2024-05-22T14:17:11.343278Z",
     "iopub.status.idle": "2024-05-22T14:17:11.363367Z",
     "shell.execute_reply": "2024-05-22T14:17:11.362247Z"
    },
    "papermill": {
     "duration": 0.049961,
     "end_time": "2024-05-22T14:17:11.365889",
     "exception": false,
     "start_time": "2024-05-22T14:17:11.315928",
     "status": "completed"
    },
    "tags": []
   },
   "outputs": [
    {
     "data": {
      "text/html": [
       "<div>\n",
       "<style scoped>\n",
       "    .dataframe tbody tr th:only-of-type {\n",
       "        vertical-align: middle;\n",
       "    }\n",
       "\n",
       "    .dataframe tbody tr th {\n",
       "        vertical-align: top;\n",
       "    }\n",
       "\n",
       "    .dataframe thead th {\n",
       "        text-align: right;\n",
       "    }\n",
       "</style>\n",
       "<table border=\"1\" class=\"dataframe\">\n",
       "  <thead>\n",
       "    <tr style=\"text-align: right;\">\n",
       "      <th></th>\n",
       "      <th>0</th>\n",
       "      <th>1</th>\n",
       "      <th>2</th>\n",
       "      <th>3</th>\n",
       "      <th>4</th>\n",
       "      <th>5</th>\n",
       "      <th>6</th>\n",
       "      <th>7</th>\n",
       "      <th>8</th>\n",
       "      <th>prediction</th>\n",
       "      <th>pred_threshold</th>\n",
       "      <th>real</th>\n",
       "    </tr>\n",
       "  </thead>\n",
       "  <tbody>\n",
       "    <tr>\n",
       "      <th>10529</th>\n",
       "      <td>0.0</td>\n",
       "      <td>0.923077</td>\n",
       "      <td>0.000032</td>\n",
       "      <td>0.230939</td>\n",
       "      <td>0.18</td>\n",
       "      <td>0.190112</td>\n",
       "      <td>0.863930</td>\n",
       "      <td>0.030520</td>\n",
       "      <td>0.209877</td>\n",
       "      <td>0.0</td>\n",
       "      <td>0.0</td>\n",
       "      <td>0.0</td>\n",
       "    </tr>\n",
       "    <tr>\n",
       "      <th>15361</th>\n",
       "      <td>0.5</td>\n",
       "      <td>0.153846</td>\n",
       "      <td>0.008027</td>\n",
       "      <td>0.717127</td>\n",
       "      <td>0.02</td>\n",
       "      <td>0.306858</td>\n",
       "      <td>0.797742</td>\n",
       "      <td>0.001980</td>\n",
       "      <td>0.654321</td>\n",
       "      <td>0.0</td>\n",
       "      <td>0.0</td>\n",
       "      <td>0.0</td>\n",
       "    </tr>\n",
       "    <tr>\n",
       "      <th>12160</th>\n",
       "      <td>0.0</td>\n",
       "      <td>0.769231</td>\n",
       "      <td>0.010819</td>\n",
       "      <td>0.818785</td>\n",
       "      <td>0.76</td>\n",
       "      <td>0.434610</td>\n",
       "      <td>0.914594</td>\n",
       "      <td>0.000275</td>\n",
       "      <td>0.283951</td>\n",
       "      <td>0.0</td>\n",
       "      <td>0.0</td>\n",
       "      <td>0.0</td>\n",
       "    </tr>\n",
       "    <tr>\n",
       "      <th>2953</th>\n",
       "      <td>1.0</td>\n",
       "      <td>0.384615</td>\n",
       "      <td>0.002729</td>\n",
       "      <td>0.709392</td>\n",
       "      <td>0.86</td>\n",
       "      <td>0.244708</td>\n",
       "      <td>0.635407</td>\n",
       "      <td>0.004378</td>\n",
       "      <td>0.222222</td>\n",
       "      <td>0.0</td>\n",
       "      <td>1.0</td>\n",
       "      <td>1.0</td>\n",
       "    </tr>\n",
       "    <tr>\n",
       "      <th>15870</th>\n",
       "      <td>0.0</td>\n",
       "      <td>0.000000</td>\n",
       "      <td>0.009766</td>\n",
       "      <td>0.477348</td>\n",
       "      <td>0.46</td>\n",
       "      <td>0.518806</td>\n",
       "      <td>0.720395</td>\n",
       "      <td>0.000511</td>\n",
       "      <td>0.148148</td>\n",
       "      <td>0.0</td>\n",
       "      <td>0.0</td>\n",
       "      <td>0.0</td>\n",
       "    </tr>\n",
       "  </tbody>\n",
       "</table>\n",
       "</div>"
      ],
      "text/plain": [
       "         0         1         2         3     4         5         6         7  \\\n",
       "10529  0.0  0.923077  0.000032  0.230939  0.18  0.190112  0.863930  0.030520   \n",
       "15361  0.5  0.153846  0.008027  0.717127  0.02  0.306858  0.797742  0.001980   \n",
       "12160  0.0  0.769231  0.010819  0.818785  0.76  0.434610  0.914594  0.000275   \n",
       "2953   1.0  0.384615  0.002729  0.709392  0.86  0.244708  0.635407  0.004378   \n",
       "15870  0.0  0.000000  0.009766  0.477348  0.46  0.518806  0.720395  0.000511   \n",
       "\n",
       "              8  prediction  pred_threshold  real  \n",
       "10529  0.209877         0.0             0.0   0.0  \n",
       "15361  0.654321         0.0             0.0   0.0  \n",
       "12160  0.283951         0.0             0.0   0.0  \n",
       "2953   0.222222         0.0             1.0   1.0  \n",
       "15870  0.148148         0.0             0.0   0.0  "
      ]
     },
     "execution_count": 51,
     "metadata": {},
     "output_type": "execute_result"
    }
   ],
   "source": [
    "x_test.head(5)"
   ]
  },
  {
   "cell_type": "code",
   "execution_count": 52,
   "id": "bc366599",
   "metadata": {
    "execution": {
     "iopub.execute_input": "2024-05-22T14:17:11.420342Z",
     "iopub.status.busy": "2024-05-22T14:17:11.419868Z",
     "iopub.status.idle": "2024-05-22T14:17:11.443374Z",
     "shell.execute_reply": "2024-05-22T14:17:11.442267Z"
    },
    "papermill": {
     "duration": 0.054202,
     "end_time": "2024-05-22T14:17:11.446562",
     "exception": false,
     "start_time": "2024-05-22T14:17:11.392360",
     "status": "completed"
    },
    "tags": []
   },
   "outputs": [
    {
     "name": "stdout",
     "output_type": "stream",
     "text": [
      "              precision    recall  f1-score   support\n",
      "\n",
      "         0.0       0.79      0.82      0.80      1932\n",
      "         1.0       0.81      0.78      0.80      1929\n",
      "\n",
      "    accuracy                           0.80      3861\n",
      "   macro avg       0.80      0.80      0.80      3861\n",
      "weighted avg       0.80      0.80      0.80      3861\n",
      "\n"
     ]
    }
   ],
   "source": [
    "# With 0.5 threshold\n",
    "print(classification_report(x_test['real'], x_test['prediction']))"
   ]
  },
  {
   "cell_type": "code",
   "execution_count": 53,
   "id": "479af74b",
   "metadata": {
    "execution": {
     "iopub.execute_input": "2024-05-22T14:17:11.502289Z",
     "iopub.status.busy": "2024-05-22T14:17:11.501479Z",
     "iopub.status.idle": "2024-05-22T14:17:11.525690Z",
     "shell.execute_reply": "2024-05-22T14:17:11.524362Z"
    },
    "papermill": {
     "duration": 0.055644,
     "end_time": "2024-05-22T14:17:11.528580",
     "exception": false,
     "start_time": "2024-05-22T14:17:11.472936",
     "status": "completed"
    },
    "tags": []
   },
   "outputs": [
    {
     "name": "stdout",
     "output_type": "stream",
     "text": [
      "              precision    recall  f1-score   support\n",
      "\n",
      "         0.0       0.93      0.70      0.80      1932\n",
      "         1.0       0.76      0.94      0.84      1929\n",
      "\n",
      "    accuracy                           0.82      3861\n",
      "   macro avg       0.84      0.82      0.82      3861\n",
      "weighted avg       0.84      0.82      0.82      3861\n",
      "\n"
     ]
    }
   ],
   "source": [
    "# With 0.4 threshold\n",
    "print(classification_report(x_test['real'], x_test['pred_threshold']))"
   ]
  },
  {
   "cell_type": "markdown",
   "id": "4b5677c5",
   "metadata": {
    "papermill": {
     "duration": 0.027729,
     "end_time": "2024-05-22T14:17:11.583356",
     "exception": false,
     "start_time": "2024-05-22T14:17:11.555627",
     "status": "completed"
    },
    "tags": []
   },
   "source": [
    "We can see an improvement in the recall for frauds, which is now 0.94, but also some other metrics such as precision got a little bit worse.\n",
    "\n",
    "The F1-score overall got better!"
   ]
  },
  {
   "cell_type": "code",
   "execution_count": 54,
   "id": "80fcd441",
   "metadata": {
    "execution": {
     "iopub.execute_input": "2024-05-22T14:17:11.638251Z",
     "iopub.status.busy": "2024-05-22T14:17:11.637735Z",
     "iopub.status.idle": "2024-05-22T14:17:11.644067Z",
     "shell.execute_reply": "2024-05-22T14:17:11.642942Z"
    },
    "papermill": {
     "duration": 0.036594,
     "end_time": "2024-05-22T14:17:11.646563",
     "exception": false,
     "start_time": "2024-05-22T14:17:11.609969",
     "status": "completed"
    },
    "tags": []
   },
   "outputs": [],
   "source": [
    "# Let's define now a function to get the confusion matrix\n",
    "def confusion_matrix_plot(test_set, pred_label, model):\n",
    "    cm = confusion_matrix(x_test['real'], x_test[pred_label], labels=model.classes_)\n",
    "    disp = ConfusionMatrixDisplay(confusion_matrix=cm,\n",
    "                              display_labels=model.classes_)\n",
    "    disp.plot()\n",
    "    plt.show()"
   ]
  },
  {
   "cell_type": "code",
   "execution_count": 55,
   "id": "93018652",
   "metadata": {
    "execution": {
     "iopub.execute_input": "2024-05-22T14:17:11.701402Z",
     "iopub.status.busy": "2024-05-22T14:17:11.700327Z",
     "iopub.status.idle": "2024-05-22T14:17:11.910570Z",
     "shell.execute_reply": "2024-05-22T14:17:11.909423Z"
    },
    "papermill": {
     "duration": 0.240468,
     "end_time": "2024-05-22T14:17:11.913212",
     "exception": false,
     "start_time": "2024-05-22T14:17:11.672744",
     "status": "completed"
    },
    "tags": []
   },
   "outputs": [
    {
     "data": {
      "image/png": "[encoded data removed]",
      "text/plain": [
       "<Figure size 640x480 with 2 Axes>"
      ]
     },
     "metadata": {},
     "output_type": "display_data"
    }
   ],
   "source": [
    "confusion_matrix_plot(x_test, 'prediction', model)"
   ]
  },
  {
   "cell_type": "code",
   "execution_count": 56,
   "id": "f6f9bb5a",
   "metadata": {
    "execution": {
     "iopub.execute_input": "2024-05-22T14:17:11.972348Z",
     "iopub.status.busy": "2024-05-22T14:17:11.971834Z",
     "iopub.status.idle": "2024-05-22T14:17:12.242977Z",
     "shell.execute_reply": "2024-05-22T14:17:12.241697Z"
    },
    "papermill": {
     "duration": 0.303382,
     "end_time": "2024-05-22T14:17:12.245875",
     "exception": false,
     "start_time": "2024-05-22T14:17:11.942493",
     "status": "completed"
    },
    "tags": []
   },
   "outputs": [
    {
     "data": {
      "image/png": "[encoded data removed]",
      "text/plain": [
       "<Figure size 640x480 with 2 Axes>"
      ]
     },
     "metadata": {},
     "output_type": "display_data"
    }
   ],
   "source": [
    "confusion_matrix_plot(x_test, 'pred_threshold', model)"
   ]
  },
  {
   "cell_type": "markdown",
   "id": "ccbd04f3",
   "metadata": {
    "papermill": {
     "duration": 0.026746,
     "end_time": "2024-05-22T14:17:12.300325",
     "exception": false,
     "start_time": "2024-05-22T14:17:12.273579",
     "status": "completed"
    },
    "tags": []
   },
   "source": [
    "This way, we got way better at predicting fraud transactions, but worse to predict non fraud."
   ]
  },
  {
   "cell_type": "markdown",
   "id": "ec8cecb6",
   "metadata": {
    "papermill": {
     "duration": 0.02886,
     "end_time": "2024-05-22T14:17:12.356437",
     "exception": false,
     "start_time": "2024-05-22T14:17:12.327577",
     "status": "completed"
    },
    "tags": []
   },
   "source": [
    "# SVM Classifier Model"
   ]
  },
  {
   "cell_type": "markdown",
   "id": "48ad33fe",
   "metadata": {
    "papermill": {
     "duration": 0.026928,
     "end_time": "2024-05-22T14:17:12.411154",
     "exception": false,
     "start_time": "2024-05-22T14:17:12.384226",
     "status": "completed"
    },
    "tags": []
   },
   "source": [
    "Let's try now with SVC model"
   ]
  },
  {
   "cell_type": "code",
   "execution_count": 57,
   "id": "b1e3bc5f",
   "metadata": {
    "execution": {
     "iopub.execute_input": "2024-05-22T14:17:12.469404Z",
     "iopub.status.busy": "2024-05-22T14:17:12.468905Z",
     "iopub.status.idle": "2024-05-22T14:17:12.474340Z",
     "shell.execute_reply": "2024-05-22T14:17:12.473228Z"
    },
    "papermill": {
     "duration": 0.037494,
     "end_time": "2024-05-22T14:17:12.476742",
     "exception": false,
     "start_time": "2024-05-22T14:17:12.439248",
     "status": "completed"
    },
    "tags": []
   },
   "outputs": [],
   "source": [
    "from sklearn.svm import SVC"
   ]
  },
  {
   "cell_type": "code",
   "execution_count": 58,
   "id": "a8d58dff",
   "metadata": {
    "execution": {
     "iopub.execute_input": "2024-05-22T14:17:12.535768Z",
     "iopub.status.busy": "2024-05-22T14:17:12.535300Z",
     "iopub.status.idle": "2024-05-22T14:17:12.540504Z",
     "shell.execute_reply": "2024-05-22T14:17:12.539475Z"
    },
    "papermill": {
     "duration": 0.03676,
     "end_time": "2024-05-22T14:17:12.543005",
     "exception": false,
     "start_time": "2024-05-22T14:17:12.506245",
     "status": "completed"
    },
    "tags": []
   },
   "outputs": [],
   "source": [
    "model_SVM = SVC(probability = True, random_state=42)"
   ]
  },
  {
   "cell_type": "code",
   "execution_count": 59,
   "id": "54b6c5e0",
   "metadata": {
    "execution": {
     "iopub.execute_input": "2024-05-22T14:17:12.601993Z",
     "iopub.status.busy": "2024-05-22T14:17:12.601531Z",
     "iopub.status.idle": "2024-05-22T14:17:46.172654Z",
     "shell.execute_reply": "2024-05-22T14:17:46.171496Z"
    },
    "papermill": {
     "duration": 33.630877,
     "end_time": "2024-05-22T14:17:46.202583",
     "exception": false,
     "start_time": "2024-05-22T14:17:12.571706",
     "status": "completed"
    },
    "tags": []
   },
   "outputs": [
    {
     "data": {
      "text/html": [
       "<style>#sk-container-id-2 {color: black;background-color: white;}#sk-container-id-2 pre{padding: 0;}#sk-container-id-2 div.sk-toggleable {background-color: white;}#sk-container-id-2 label.sk-toggleable__label {cursor: pointer;display: block;width: 100%;margin-bottom: 0;padding: 0.3em;box-sizing: border-box;text-align: center;}#sk-container-id-2 label.sk-toggleable__label-arrow:before {content: \"▸\";float: left;margin-right: 0.25em;color: #696969;}#sk-container-id-2 label.sk-toggleable__label-arrow:hover:before {color: black;}#sk-container-id-2 div.sk-estimator:hover label.sk-toggleable__label-arrow:before {color: black;}#sk-container-id-2 div.sk-toggleable__content {max-height: 0;max-width: 0;overflow: hidden;text-align: left;background-color: #f0f8ff;}#sk-container-id-2 div.sk-toggleable__content pre {margin: 0.2em;color: black;border-radius: 0.25em;background-color: #f0f8ff;}#sk-container-id-2 input.sk-toggleable__control:checked~div.sk-toggleable__content {max-height: 200px;max-width: 100%;overflow: auto;}#sk-container-id-2 input.sk-toggleable__control:checked~label.sk-toggleable__label-arrow:before {content: \"▾\";}#sk-container-id-2 div.sk-estimator input.sk-toggleable__control:checked~label.sk-toggleable__label {background-color: #d4ebff;}#sk-container-id-2 div.sk-label input.sk-toggleable__control:checked~label.sk-toggleable__label {background-color: #d4ebff;}#sk-container-id-2 input.sk-hidden--visually {border: 0;clip: rect(1px 1px 1px 1px);clip: rect(1px, 1px, 1px, 1px);height: 1px;margin: -1px;overflow: hidden;padding: 0;position: absolute;width: 1px;}#sk-container-id-2 div.sk-estimator {font-family: monospace;background-color: #f0f8ff;border: 1px dotted black;border-radius: 0.25em;box-sizing: border-box;margin-bottom: 0.5em;}#sk-container-id-2 div.sk-estimator:hover {background-color: #d4ebff;}#sk-container-id-2 div.sk-parallel-item::after {content: \"\";width: 100%;border-bottom: 1px solid gray;flex-grow: 1;}#sk-container-id-2 div.sk-label:hover label.sk-toggleable__label {background-color: #d4ebff;}#sk-container-id-2 div.sk-serial::before {content: \"\";position: absolute;border-left: 1px solid gray;box-sizing: border-box;top: 0;bottom: 0;left: 50%;z-index: 0;}#sk-container-id-2 div.sk-serial {display: flex;flex-direction: column;align-items: center;background-color: white;padding-right: 0.2em;padding-left: 0.2em;position: relative;}#sk-container-id-2 div.sk-item {position: relative;z-index: 1;}#sk-container-id-2 div.sk-parallel {display: flex;align-items: stretch;justify-content: center;background-color: white;position: relative;}#sk-container-id-2 div.sk-item::before, #sk-container-id-2 div.sk-parallel-item::before {content: \"\";position: absolute;border-left: 1px solid gray;box-sizing: border-box;top: 0;bottom: 0;left: 50%;z-index: -1;}#sk-container-id-2 div.sk-parallel-item {display: flex;flex-direction: column;z-index: 1;position: relative;background-color: white;}#sk-container-id-2 div.sk-parallel-item:first-child::after {align-self: flex-end;width: 50%;}#sk-container-id-2 div.sk-parallel-item:last-child::after {align-self: flex-start;width: 50%;}#sk-container-id-2 div.sk-parallel-item:only-child::after {width: 0;}#sk-container-id-2 div.sk-dashed-wrapped {border: 1px dashed gray;margin: 0 0.4em 0.5em 0.4em;box-sizing: border-box;padding-bottom: 0.4em;background-color: white;}#sk-container-id-2 div.sk-label label {font-family: monospace;font-weight: bold;display: inline-block;line-height: 1.2em;}#sk-container-id-2 div.sk-label-container {text-align: center;}#sk-container-id-2 div.sk-container {/* jupyter's `normalize.less` sets `[hidden] { display: none; }` but bootstrap.min.css set `[hidden] { display: none !important; }` so we also need the `!important` here to be able to override the default hidden behavior on the sphinx rendered scikit-learn.org. See: https://github.com/scikit-learn/scikit-learn/issues/21755 */display: inline-block !important;position: relative;}#sk-container-id-2 div.sk-text-repr-fallback {display: none;}</style><div id=\"sk-container-id-2\" class=\"sk-top-container\"><div class=\"sk-text-repr-fallback\"><pre>SVC(probability=True, random_state=42)</pre><b>In a Jupyter environment, please rerun this cell to show the HTML representation or trust the notebook. <br />On GitHub, the HTML representation is unable to render, please try loading this page with nbviewer.org.</b></div><div class=\"sk-container\" hidden><div class=\"sk-item\"><div class=\"sk-estimator sk-toggleable\"><input class=\"sk-toggleable__control sk-hidden--visually\" id=\"sk-estimator-id-2\" type=\"checkbox\" checked><label for=\"sk-estimator-id-2\" class=\"sk-toggleable__label sk-toggleable__label-arrow\">SVC</label><div class=\"sk-toggleable__content\"><pre>SVC(probability=True, random_state=42)</pre></div></div></div></div></div>"
      ],
      "text/plain": [
       "SVC(probability=True, random_state=42)"
      ]
     },
     "execution_count": 59,
     "metadata": {},
     "output_type": "execute_result"
    }
   ],
   "source": [
    "model_SVM.fit(x_train, y_train)"
   ]
  },
  {
   "cell_type": "code",
   "execution_count": 60,
   "id": "f9e7e63d",
   "metadata": {
    "execution": {
     "iopub.execute_input": "2024-05-22T14:17:46.260882Z",
     "iopub.status.busy": "2024-05-22T14:17:46.260034Z",
     "iopub.status.idle": "2024-05-22T14:17:46.266826Z",
     "shell.execute_reply": "2024-05-22T14:17:46.265673Z"
    },
    "papermill": {
     "duration": 0.038556,
     "end_time": "2024-05-22T14:17:46.269328",
     "exception": false,
     "start_time": "2024-05-22T14:17:46.230772",
     "status": "completed"
    },
    "tags": []
   },
   "outputs": [],
   "source": [
    "# Dropping our last predictions\n",
    "x_test = x_test.drop(columns = {'prediction','pred_threshold' ,'real'})"
   ]
  },
  {
   "cell_type": "code",
   "execution_count": 61,
   "id": "233e81f1",
   "metadata": {
    "execution": {
     "iopub.execute_input": "2024-05-22T14:17:46.327950Z",
     "iopub.status.busy": "2024-05-22T14:17:46.327433Z",
     "iopub.status.idle": "2024-05-22T14:17:48.983360Z",
     "shell.execute_reply": "2024-05-22T14:17:48.982022Z"
    },
    "papermill": {
     "duration": 2.689044,
     "end_time": "2024-05-22T14:17:48.986047",
     "exception": false,
     "start_time": "2024-05-22T14:17:46.297003",
     "status": "completed"
    },
    "tags": []
   },
   "outputs": [
    {
     "data": {
      "text/html": [
       "<div>\n",
       "<style scoped>\n",
       "    .dataframe tbody tr th:only-of-type {\n",
       "        vertical-align: middle;\n",
       "    }\n",
       "\n",
       "    .dataframe tbody tr th {\n",
       "        vertical-align: top;\n",
       "    }\n",
       "\n",
       "    .dataframe thead th {\n",
       "        text-align: right;\n",
       "    }\n",
       "</style>\n",
       "<table border=\"1\" class=\"dataframe\">\n",
       "  <thead>\n",
       "    <tr style=\"text-align: right;\">\n",
       "      <th></th>\n",
       "      <th>0</th>\n",
       "      <th>1</th>\n",
       "      <th>2</th>\n",
       "      <th>3</th>\n",
       "      <th>4</th>\n",
       "      <th>5</th>\n",
       "      <th>6</th>\n",
       "      <th>7</th>\n",
       "      <th>8</th>\n",
       "      <th>prediction</th>\n",
       "      <th>pred_threshold</th>\n",
       "    </tr>\n",
       "  </thead>\n",
       "  <tbody>\n",
       "    <tr>\n",
       "      <th>10529</th>\n",
       "      <td>0.0</td>\n",
       "      <td>0.923077</td>\n",
       "      <td>0.000032</td>\n",
       "      <td>0.230939</td>\n",
       "      <td>0.18</td>\n",
       "      <td>0.190112</td>\n",
       "      <td>0.863930</td>\n",
       "      <td>0.030520</td>\n",
       "      <td>0.209877</td>\n",
       "      <td>0.0</td>\n",
       "      <td>0.0</td>\n",
       "    </tr>\n",
       "    <tr>\n",
       "      <th>15361</th>\n",
       "      <td>0.5</td>\n",
       "      <td>0.153846</td>\n",
       "      <td>0.008027</td>\n",
       "      <td>0.717127</td>\n",
       "      <td>0.02</td>\n",
       "      <td>0.306858</td>\n",
       "      <td>0.797742</td>\n",
       "      <td>0.001980</td>\n",
       "      <td>0.654321</td>\n",
       "      <td>0.0</td>\n",
       "      <td>0.0</td>\n",
       "    </tr>\n",
       "    <tr>\n",
       "      <th>12160</th>\n",
       "      <td>0.0</td>\n",
       "      <td>0.769231</td>\n",
       "      <td>0.010819</td>\n",
       "      <td>0.818785</td>\n",
       "      <td>0.76</td>\n",
       "      <td>0.434610</td>\n",
       "      <td>0.914594</td>\n",
       "      <td>0.000275</td>\n",
       "      <td>0.283951</td>\n",
       "      <td>0.0</td>\n",
       "      <td>0.0</td>\n",
       "    </tr>\n",
       "    <tr>\n",
       "      <th>2953</th>\n",
       "      <td>1.0</td>\n",
       "      <td>0.384615</td>\n",
       "      <td>0.002729</td>\n",
       "      <td>0.709392</td>\n",
       "      <td>0.86</td>\n",
       "      <td>0.244708</td>\n",
       "      <td>0.635407</td>\n",
       "      <td>0.004378</td>\n",
       "      <td>0.222222</td>\n",
       "      <td>1.0</td>\n",
       "      <td>1.0</td>\n",
       "    </tr>\n",
       "    <tr>\n",
       "      <th>15870</th>\n",
       "      <td>0.0</td>\n",
       "      <td>0.000000</td>\n",
       "      <td>0.009766</td>\n",
       "      <td>0.477348</td>\n",
       "      <td>0.46</td>\n",
       "      <td>0.518806</td>\n",
       "      <td>0.720395</td>\n",
       "      <td>0.000511</td>\n",
       "      <td>0.148148</td>\n",
       "      <td>0.0</td>\n",
       "      <td>0.0</td>\n",
       "    </tr>\n",
       "    <tr>\n",
       "      <th>...</th>\n",
       "      <td>...</td>\n",
       "      <td>...</td>\n",
       "      <td>...</td>\n",
       "      <td>...</td>\n",
       "      <td>...</td>\n",
       "      <td>...</td>\n",
       "      <td>...</td>\n",
       "      <td>...</td>\n",
       "      <td>...</td>\n",
       "      <td>...</td>\n",
       "      <td>...</td>\n",
       "    </tr>\n",
       "    <tr>\n",
       "      <th>17155</th>\n",
       "      <td>0.0</td>\n",
       "      <td>0.692308</td>\n",
       "      <td>0.000574</td>\n",
       "      <td>0.093923</td>\n",
       "      <td>0.42</td>\n",
       "      <td>0.514942</td>\n",
       "      <td>0.979377</td>\n",
       "      <td>0.001101</td>\n",
       "      <td>0.098765</td>\n",
       "      <td>0.0</td>\n",
       "      <td>0.0</td>\n",
       "    </tr>\n",
       "    <tr>\n",
       "      <th>17454</th>\n",
       "      <td>0.5</td>\n",
       "      <td>0.153846</td>\n",
       "      <td>0.006062</td>\n",
       "      <td>0.976796</td>\n",
       "      <td>0.48</td>\n",
       "      <td>0.358675</td>\n",
       "      <td>0.732927</td>\n",
       "      <td>0.000254</td>\n",
       "      <td>0.246914</td>\n",
       "      <td>0.0</td>\n",
       "      <td>0.0</td>\n",
       "    </tr>\n",
       "    <tr>\n",
       "      <th>12681</th>\n",
       "      <td>1.0</td>\n",
       "      <td>1.000000</td>\n",
       "      <td>0.001007</td>\n",
       "      <td>0.977901</td>\n",
       "      <td>0.20</td>\n",
       "      <td>0.232642</td>\n",
       "      <td>0.832440</td>\n",
       "      <td>0.001172</td>\n",
       "      <td>0.679012</td>\n",
       "      <td>0.0</td>\n",
       "      <td>0.0</td>\n",
       "    </tr>\n",
       "    <tr>\n",
       "      <th>15764</th>\n",
       "      <td>0.0</td>\n",
       "      <td>0.384615</td>\n",
       "      <td>0.000481</td>\n",
       "      <td>0.667403</td>\n",
       "      <td>0.08</td>\n",
       "      <td>0.380590</td>\n",
       "      <td>0.444976</td>\n",
       "      <td>0.131228</td>\n",
       "      <td>0.382716</td>\n",
       "      <td>0.0</td>\n",
       "      <td>0.0</td>\n",
       "    </tr>\n",
       "    <tr>\n",
       "      <th>16722</th>\n",
       "      <td>0.0</td>\n",
       "      <td>0.461538</td>\n",
       "      <td>0.009020</td>\n",
       "      <td>0.801105</td>\n",
       "      <td>0.36</td>\n",
       "      <td>0.218818</td>\n",
       "      <td>0.765731</td>\n",
       "      <td>0.003459</td>\n",
       "      <td>0.345679</td>\n",
       "      <td>0.0</td>\n",
       "      <td>0.0</td>\n",
       "    </tr>\n",
       "  </tbody>\n",
       "</table>\n",
       "<p>3861 rows × 11 columns</p>\n",
       "</div>"
      ],
      "text/plain": [
       "         0         1         2         3     4         5         6         7  \\\n",
       "10529  0.0  0.923077  0.000032  0.230939  0.18  0.190112  0.863930  0.030520   \n",
       "15361  0.5  0.153846  0.008027  0.717127  0.02  0.306858  0.797742  0.001980   \n",
       "12160  0.0  0.769231  0.010819  0.818785  0.76  0.434610  0.914594  0.000275   \n",
       "2953   1.0  0.384615  0.002729  0.709392  0.86  0.244708  0.635407  0.004378   \n",
       "15870  0.0  0.000000  0.009766  0.477348  0.46  0.518806  0.720395  0.000511   \n",
       "...    ...       ...       ...       ...   ...       ...       ...       ...   \n",
       "17155  0.0  0.692308  0.000574  0.093923  0.42  0.514942  0.979377  0.001101   \n",
       "17454  0.5  0.153846  0.006062  0.976796  0.48  0.358675  0.732927  0.000254   \n",
       "12681  1.0  1.000000  0.001007  0.977901  0.20  0.232642  0.832440  0.001172   \n",
       "15764  0.0  0.384615  0.000481  0.667403  0.08  0.380590  0.444976  0.131228   \n",
       "16722  0.0  0.461538  0.009020  0.801105  0.36  0.218818  0.765731  0.003459   \n",
       "\n",
       "              8  prediction  pred_threshold  \n",
       "10529  0.209877         0.0             0.0  \n",
       "15361  0.654321         0.0             0.0  \n",
       "12160  0.283951         0.0             0.0  \n",
       "2953   0.222222         1.0             1.0  \n",
       "15870  0.148148         0.0             0.0  \n",
       "...         ...         ...             ...  \n",
       "17155  0.098765         0.0             0.0  \n",
       "17454  0.246914         0.0             0.0  \n",
       "12681  0.679012         0.0             0.0  \n",
       "15764  0.382716         0.0             0.0  \n",
       "16722  0.345679         0.0             0.0  \n",
       "\n",
       "[3861 rows x 11 columns]"
      ]
     },
     "execution_count": 61,
     "metadata": {},
     "output_type": "execute_result"
    }
   ],
   "source": [
    "# Use 0.4 as threshold for LR model\n",
    "predict(model_SVM, x_test, 0.4)"
   ]
  },
  {
   "cell_type": "code",
   "execution_count": 62,
   "id": "e808451e",
   "metadata": {
    "execution": {
     "iopub.execute_input": "2024-05-22T14:17:49.044511Z",
     "iopub.status.busy": "2024-05-22T14:17:49.044014Z",
     "iopub.status.idle": "2024-05-22T14:17:49.084654Z",
     "shell.execute_reply": "2024-05-22T14:17:49.083239Z"
    },
    "papermill": {
     "duration": 0.073102,
     "end_time": "2024-05-22T14:17:49.087653",
     "exception": false,
     "start_time": "2024-05-22T14:17:49.014551",
     "status": "completed"
    },
    "tags": []
   },
   "outputs": [
    {
     "name": "stdout",
     "output_type": "stream",
     "text": [
      "              precision    recall  f1-score   support\n",
      "\n",
      "         0.0       0.85      0.83      0.84      1932\n",
      "         1.0       0.84      0.85      0.84      1929\n",
      "\n",
      "    accuracy                           0.84      3861\n",
      "   macro avg       0.84      0.84      0.84      3861\n",
      "weighted avg       0.84      0.84      0.84      3861\n",
      "\n",
      "              precision    recall  f1-score   support\n",
      "\n",
      "         0.0       0.86      0.80      0.83      1932\n",
      "         1.0       0.81      0.87      0.84      1929\n",
      "\n",
      "    accuracy                           0.83      3861\n",
      "   macro avg       0.84      0.83      0.83      3861\n",
      "weighted avg       0.84      0.83      0.83      3861\n",
      "\n"
     ]
    }
   ],
   "source": [
    "x_test[\"real\"] = y_test[\"is_fraud\"]\n",
    "\n",
    "# With 0.5 threshold\n",
    "print(classification_report(x_test['real'], x_test['prediction']))\n",
    "# With 0.4 threshold\n",
    "print(classification_report(x_test['real'], x_test['pred_threshold']))"
   ]
  },
  {
   "cell_type": "markdown",
   "id": "872e0362",
   "metadata": {
    "papermill": {
     "duration": 0.027688,
     "end_time": "2024-05-22T14:17:49.145773",
     "exception": false,
     "start_time": "2024-05-22T14:17:49.118085",
     "status": "completed"
    },
    "tags": []
   },
   "source": [
    "In this case, we've got more balanced metrics, and a little improvement in recall. The f1-score is somewhat similar to LR."
   ]
  },
  {
   "cell_type": "code",
   "execution_count": 63,
   "id": "5f3f0b07",
   "metadata": {
    "execution": {
     "iopub.execute_input": "2024-05-22T14:17:49.204808Z",
     "iopub.status.busy": "2024-05-22T14:17:49.204342Z",
     "iopub.status.idle": "2024-05-22T14:17:49.464616Z",
     "shell.execute_reply": "2024-05-22T14:17:49.463254Z"
    },
    "papermill": {
     "duration": 0.292637,
     "end_time": "2024-05-22T14:17:49.467396",
     "exception": false,
     "start_time": "2024-05-22T14:17:49.174759",
     "status": "completed"
    },
    "tags": []
   },
   "outputs": [
    {
     "data": {
      "image/png": "[encoded data removed]",
      "text/plain": [
       "<Figure size 640x480 with 2 Axes>"
      ]
     },
     "metadata": {},
     "output_type": "display_data"
    }
   ],
   "source": [
    "confusion_matrix_plot(x_test, 'pred_threshold', model_SVM)"
   ]
  },
  {
   "cell_type": "markdown",
   "id": "b3cdc93d",
   "metadata": {
    "papermill": {
     "duration": 0.02769,
     "end_time": "2024-05-22T14:17:49.523397",
     "exception": false,
     "start_time": "2024-05-22T14:17:49.495707",
     "status": "completed"
    },
    "tags": []
   },
   "source": [
    "# XGBoost Model"
   ]
  },
  {
   "cell_type": "markdown",
   "id": "c2ad12cc",
   "metadata": {
    "papermill": {
     "duration": 0.028332,
     "end_time": "2024-05-22T14:17:49.581772",
     "exception": false,
     "start_time": "2024-05-22T14:17:49.553440",
     "status": "completed"
    },
    "tags": []
   },
   "source": [
    "Finally, we will implement XGBoost model and compare with LR and SVC."
   ]
  },
  {
   "cell_type": "code",
   "execution_count": 64,
   "id": "0f7f5881",
   "metadata": {
    "execution": {
     "iopub.execute_input": "2024-05-22T14:17:49.641983Z",
     "iopub.status.busy": "2024-05-22T14:17:49.641459Z",
     "iopub.status.idle": "2024-05-22T14:17:49.986541Z",
     "shell.execute_reply": "2024-05-22T14:17:49.985412Z"
    },
    "papermill": {
     "duration": 0.379084,
     "end_time": "2024-05-22T14:17:49.989727",
     "exception": false,
     "start_time": "2024-05-22T14:17:49.610643",
     "status": "completed"
    },
    "tags": []
   },
   "outputs": [],
   "source": [
    "from xgboost import XGBClassifier"
   ]
  },
  {
   "cell_type": "code",
   "execution_count": 65,
   "id": "1ad10f28",
   "metadata": {
    "execution": {
     "iopub.execute_input": "2024-05-22T14:17:50.050171Z",
     "iopub.status.busy": "2024-05-22T14:17:50.048986Z",
     "iopub.status.idle": "2024-05-22T14:17:50.054553Z",
     "shell.execute_reply": "2024-05-22T14:17:50.053334Z"
    },
    "papermill": {
     "duration": 0.038242,
     "end_time": "2024-05-22T14:17:50.057356",
     "exception": false,
     "start_time": "2024-05-22T14:17:50.019114",
     "status": "completed"
    },
    "tags": []
   },
   "outputs": [],
   "source": [
    "# XGBoost classifier model\n",
    "xgb = XGBClassifier(objective='binary:logistic')"
   ]
  },
  {
   "cell_type": "code",
   "execution_count": 66,
   "id": "11091d1a",
   "metadata": {
    "execution": {
     "iopub.execute_input": "2024-05-22T14:17:50.120766Z",
     "iopub.status.busy": "2024-05-22T14:17:50.120321Z",
     "iopub.status.idle": "2024-05-22T14:17:50.401466Z",
     "shell.execute_reply": "2024-05-22T14:17:50.400238Z"
    },
    "papermill": {
     "duration": 0.31728,
     "end_time": "2024-05-22T14:17:50.404589",
     "exception": false,
     "start_time": "2024-05-22T14:17:50.087309",
     "status": "completed"
    },
    "tags": []
   },
   "outputs": [
    {
     "data": {
      "text/html": [
       "<style>#sk-container-id-3 {color: black;background-color: white;}#sk-container-id-3 pre{padding: 0;}#sk-container-id-3 div.sk-toggleable {background-color: white;}#sk-container-id-3 label.sk-toggleable__label {cursor: pointer;display: block;width: 100%;margin-bottom: 0;padding: 0.3em;box-sizing: border-box;text-align: center;}#sk-container-id-3 label.sk-toggleable__label-arrow:before {content: \"▸\";float: left;margin-right: 0.25em;color: #696969;}#sk-container-id-3 label.sk-toggleable__label-arrow:hover:before {color: black;}#sk-container-id-3 div.sk-estimator:hover label.sk-toggleable__label-arrow:before {color: black;}#sk-container-id-3 div.sk-toggleable__content {max-height: 0;max-width: 0;overflow: hidden;text-align: left;background-color: #f0f8ff;}#sk-container-id-3 div.sk-toggleable__content pre {margin: 0.2em;color: black;border-radius: 0.25em;background-color: #f0f8ff;}#sk-container-id-3 input.sk-toggleable__control:checked~div.sk-toggleable__content {max-height: 200px;max-width: 100%;overflow: auto;}#sk-container-id-3 input.sk-toggleable__control:checked~label.sk-toggleable__label-arrow:before {content: \"▾\";}#sk-container-id-3 div.sk-estimator input.sk-toggleable__control:checked~label.sk-toggleable__label {background-color: #d4ebff;}#sk-container-id-3 div.sk-label input.sk-toggleable__control:checked~label.sk-toggleable__label {background-color: #d4ebff;}#sk-container-id-3 input.sk-hidden--visually {border: 0;clip: rect(1px 1px 1px 1px);clip: rect(1px, 1px, 1px, 1px);height: 1px;margin: -1px;overflow: hidden;padding: 0;position: absolute;width: 1px;}#sk-container-id-3 div.sk-estimator {font-family: monospace;background-color: #f0f8ff;border: 1px dotted black;border-radius: 0.25em;box-sizing: border-box;margin-bottom: 0.5em;}#sk-container-id-3 div.sk-estimator:hover {background-color: #d4ebff;}#sk-container-id-3 div.sk-parallel-item::after {content: \"\";width: 100%;border-bottom: 1px solid gray;flex-grow: 1;}#sk-container-id-3 div.sk-label:hover label.sk-toggleable__label {background-color: #d4ebff;}#sk-container-id-3 div.sk-serial::before {content: \"\";position: absolute;border-left: 1px solid gray;box-sizing: border-box;top: 0;bottom: 0;left: 50%;z-index: 0;}#sk-container-id-3 div.sk-serial {display: flex;flex-direction: column;align-items: center;background-color: white;padding-right: 0.2em;padding-left: 0.2em;position: relative;}#sk-container-id-3 div.sk-item {position: relative;z-index: 1;}#sk-container-id-3 div.sk-parallel {display: flex;align-items: stretch;justify-content: center;background-color: white;position: relative;}#sk-container-id-3 div.sk-item::before, #sk-container-id-3 div.sk-parallel-item::before {content: \"\";position: absolute;border-left: 1px solid gray;box-sizing: border-box;top: 0;bottom: 0;left: 50%;z-index: -1;}#sk-container-id-3 div.sk-parallel-item {display: flex;flex-direction: column;z-index: 1;position: relative;background-color: white;}#sk-container-id-3 div.sk-parallel-item:first-child::after {align-self: flex-end;width: 50%;}#sk-container-id-3 div.sk-parallel-item:last-child::after {align-self: flex-start;width: 50%;}#sk-container-id-3 div.sk-parallel-item:only-child::after {width: 0;}#sk-container-id-3 div.sk-dashed-wrapped {border: 1px dashed gray;margin: 0 0.4em 0.5em 0.4em;box-sizing: border-box;padding-bottom: 0.4em;background-color: white;}#sk-container-id-3 div.sk-label label {font-family: monospace;font-weight: bold;display: inline-block;line-height: 1.2em;}#sk-container-id-3 div.sk-label-container {text-align: center;}#sk-container-id-3 div.sk-container {/* jupyter's `normalize.less` sets `[hidden] { display: none; }` but bootstrap.min.css set `[hidden] { display: none !important; }` so we also need the `!important` here to be able to override the default hidden behavior on the sphinx rendered scikit-learn.org. See: https://github.com/scikit-learn/scikit-learn/issues/21755 */display: inline-block !important;position: relative;}#sk-container-id-3 div.sk-text-repr-fallback {display: none;}</style><div id=\"sk-container-id-3\" class=\"sk-top-container\"><div class=\"sk-text-repr-fallback\"><pre>XGBClassifier(base_score=None, booster=None, callbacks=None,\n",
       "              colsample_bylevel=None, colsample_bynode=None,\n",
       "              colsample_bytree=None, device=None, early_stopping_rounds=None,\n",
       "              enable_categorical=False, eval_metric=None, feature_types=None,\n",
       "              gamma=None, grow_policy=None, importance_type=None,\n",
       "              interaction_constraints=None, learning_rate=None, max_bin=None,\n",
       "              max_cat_threshold=None, max_cat_to_onehot=None,\n",
       "              max_delta_step=None, max_depth=None, max_leaves=None,\n",
       "              min_child_weight=None, missing=nan, monotone_constraints=None,\n",
       "              multi_strategy=None, n_estimators=None, n_jobs=None,\n",
       "              num_parallel_tree=None, random_state=None, ...)</pre><b>In a Jupyter environment, please rerun this cell to show the HTML representation or trust the notebook. <br />On GitHub, the HTML representation is unable to render, please try loading this page with nbviewer.org.</b></div><div class=\"sk-container\" hidden><div class=\"sk-item\"><div class=\"sk-estimator sk-toggleable\"><input class=\"sk-toggleable__control sk-hidden--visually\" id=\"sk-estimator-id-3\" type=\"checkbox\" checked><label for=\"sk-estimator-id-3\" class=\"sk-toggleable__label sk-toggleable__label-arrow\">XGBClassifier</label><div class=\"sk-toggleable__content\"><pre>XGBClassifier(base_score=None, booster=None, callbacks=None,\n",
       "              colsample_bylevel=None, colsample_bynode=None,\n",
       "              colsample_bytree=None, device=None, early_stopping_rounds=None,\n",
       "              enable_categorical=False, eval_metric=None, feature_types=None,\n",
       "              gamma=None, grow_policy=None, importance_type=None,\n",
       "              interaction_constraints=None, learning_rate=None, max_bin=None,\n",
       "              max_cat_threshold=None, max_cat_to_onehot=None,\n",
       "              max_delta_step=None, max_depth=None, max_leaves=None,\n",
       "              min_child_weight=None, missing=nan, monotone_constraints=None,\n",
       "              multi_strategy=None, n_estimators=None, n_jobs=None,\n",
       "              num_parallel_tree=None, random_state=None, ...)</pre></div></div></div></div></div>"
      ],
      "text/plain": [
       "XGBClassifier(base_score=None, booster=None, callbacks=None,\n",
       "              colsample_bylevel=None, colsample_bynode=None,\n",
       "              colsample_bytree=None, device=None, early_stopping_rounds=None,\n",
       "              enable_categorical=False, eval_metric=None, feature_types=None,\n",
       "              gamma=None, grow_policy=None, importance_type=None,\n",
       "              interaction_constraints=None, learning_rate=None, max_bin=None,\n",
       "              max_cat_threshold=None, max_cat_to_onehot=None,\n",
       "              max_delta_step=None, max_depth=None, max_leaves=None,\n",
       "              min_child_weight=None, missing=nan, monotone_constraints=None,\n",
       "              multi_strategy=None, n_estimators=None, n_jobs=None,\n",
       "              num_parallel_tree=None, random_state=None, ...)"
      ]
     },
     "execution_count": 66,
     "metadata": {},
     "output_type": "execute_result"
    }
   ],
   "source": [
    "xgb.fit(x_train, y_train)"
   ]
  },
  {
   "cell_type": "code",
   "execution_count": 67,
   "id": "50cca10d",
   "metadata": {
    "execution": {
     "iopub.execute_input": "2024-05-22T14:17:50.464109Z",
     "iopub.status.busy": "2024-05-22T14:17:50.463552Z",
     "iopub.status.idle": "2024-05-22T14:17:50.470502Z",
     "shell.execute_reply": "2024-05-22T14:17:50.469208Z"
    },
    "papermill": {
     "duration": 0.039765,
     "end_time": "2024-05-22T14:17:50.473244",
     "exception": false,
     "start_time": "2024-05-22T14:17:50.433479",
     "status": "completed"
    },
    "tags": []
   },
   "outputs": [],
   "source": [
    "# Drop again our last predictions\n",
    "x_test = x_test.drop(columns = {'prediction','pred_threshold' ,'real'})"
   ]
  },
  {
   "cell_type": "code",
   "execution_count": 68,
   "id": "936d128d",
   "metadata": {
    "execution": {
     "iopub.execute_input": "2024-05-22T14:17:50.532506Z",
     "iopub.status.busy": "2024-05-22T14:17:50.532020Z",
     "iopub.status.idle": "2024-05-22T14:17:50.573063Z",
     "shell.execute_reply": "2024-05-22T14:17:50.571911Z"
    },
    "papermill": {
     "duration": 0.074436,
     "end_time": "2024-05-22T14:17:50.576184",
     "exception": false,
     "start_time": "2024-05-22T14:17:50.501748",
     "status": "completed"
    },
    "tags": []
   },
   "outputs": [
    {
     "data": {
      "text/html": [
       "<div>\n",
       "<style scoped>\n",
       "    .dataframe tbody tr th:only-of-type {\n",
       "        vertical-align: middle;\n",
       "    }\n",
       "\n",
       "    .dataframe tbody tr th {\n",
       "        vertical-align: top;\n",
       "    }\n",
       "\n",
       "    .dataframe thead th {\n",
       "        text-align: right;\n",
       "    }\n",
       "</style>\n",
       "<table border=\"1\" class=\"dataframe\">\n",
       "  <thead>\n",
       "    <tr style=\"text-align: right;\">\n",
       "      <th></th>\n",
       "      <th>0</th>\n",
       "      <th>1</th>\n",
       "      <th>2</th>\n",
       "      <th>3</th>\n",
       "      <th>4</th>\n",
       "      <th>5</th>\n",
       "      <th>6</th>\n",
       "      <th>7</th>\n",
       "      <th>8</th>\n",
       "      <th>prediction</th>\n",
       "      <th>pred_threshold</th>\n",
       "    </tr>\n",
       "  </thead>\n",
       "  <tbody>\n",
       "    <tr>\n",
       "      <th>10529</th>\n",
       "      <td>0.0</td>\n",
       "      <td>0.923077</td>\n",
       "      <td>0.000032</td>\n",
       "      <td>0.230939</td>\n",
       "      <td>0.18</td>\n",
       "      <td>0.190112</td>\n",
       "      <td>0.863930</td>\n",
       "      <td>0.030520</td>\n",
       "      <td>0.209877</td>\n",
       "      <td>0</td>\n",
       "      <td>0.0</td>\n",
       "    </tr>\n",
       "    <tr>\n",
       "      <th>15361</th>\n",
       "      <td>0.5</td>\n",
       "      <td>0.153846</td>\n",
       "      <td>0.008027</td>\n",
       "      <td>0.717127</td>\n",
       "      <td>0.02</td>\n",
       "      <td>0.306858</td>\n",
       "      <td>0.797742</td>\n",
       "      <td>0.001980</td>\n",
       "      <td>0.654321</td>\n",
       "      <td>0</td>\n",
       "      <td>0.0</td>\n",
       "    </tr>\n",
       "    <tr>\n",
       "      <th>12160</th>\n",
       "      <td>0.0</td>\n",
       "      <td>0.769231</td>\n",
       "      <td>0.010819</td>\n",
       "      <td>0.818785</td>\n",
       "      <td>0.76</td>\n",
       "      <td>0.434610</td>\n",
       "      <td>0.914594</td>\n",
       "      <td>0.000275</td>\n",
       "      <td>0.283951</td>\n",
       "      <td>0</td>\n",
       "      <td>0.0</td>\n",
       "    </tr>\n",
       "    <tr>\n",
       "      <th>2953</th>\n",
       "      <td>1.0</td>\n",
       "      <td>0.384615</td>\n",
       "      <td>0.002729</td>\n",
       "      <td>0.709392</td>\n",
       "      <td>0.86</td>\n",
       "      <td>0.244708</td>\n",
       "      <td>0.635407</td>\n",
       "      <td>0.004378</td>\n",
       "      <td>0.222222</td>\n",
       "      <td>1</td>\n",
       "      <td>1.0</td>\n",
       "    </tr>\n",
       "    <tr>\n",
       "      <th>15870</th>\n",
       "      <td>0.0</td>\n",
       "      <td>0.000000</td>\n",
       "      <td>0.009766</td>\n",
       "      <td>0.477348</td>\n",
       "      <td>0.46</td>\n",
       "      <td>0.518806</td>\n",
       "      <td>0.720395</td>\n",
       "      <td>0.000511</td>\n",
       "      <td>0.148148</td>\n",
       "      <td>0</td>\n",
       "      <td>0.0</td>\n",
       "    </tr>\n",
       "    <tr>\n",
       "      <th>...</th>\n",
       "      <td>...</td>\n",
       "      <td>...</td>\n",
       "      <td>...</td>\n",
       "      <td>...</td>\n",
       "      <td>...</td>\n",
       "      <td>...</td>\n",
       "      <td>...</td>\n",
       "      <td>...</td>\n",
       "      <td>...</td>\n",
       "      <td>...</td>\n",
       "      <td>...</td>\n",
       "    </tr>\n",
       "    <tr>\n",
       "      <th>17155</th>\n",
       "      <td>0.0</td>\n",
       "      <td>0.692308</td>\n",
       "      <td>0.000574</td>\n",
       "      <td>0.093923</td>\n",
       "      <td>0.42</td>\n",
       "      <td>0.514942</td>\n",
       "      <td>0.979377</td>\n",
       "      <td>0.001101</td>\n",
       "      <td>0.098765</td>\n",
       "      <td>0</td>\n",
       "      <td>0.0</td>\n",
       "    </tr>\n",
       "    <tr>\n",
       "      <th>17454</th>\n",
       "      <td>0.5</td>\n",
       "      <td>0.153846</td>\n",
       "      <td>0.006062</td>\n",
       "      <td>0.976796</td>\n",
       "      <td>0.48</td>\n",
       "      <td>0.358675</td>\n",
       "      <td>0.732927</td>\n",
       "      <td>0.000254</td>\n",
       "      <td>0.246914</td>\n",
       "      <td>0</td>\n",
       "      <td>0.0</td>\n",
       "    </tr>\n",
       "    <tr>\n",
       "      <th>12681</th>\n",
       "      <td>1.0</td>\n",
       "      <td>1.000000</td>\n",
       "      <td>0.001007</td>\n",
       "      <td>0.977901</td>\n",
       "      <td>0.20</td>\n",
       "      <td>0.232642</td>\n",
       "      <td>0.832440</td>\n",
       "      <td>0.001172</td>\n",
       "      <td>0.679012</td>\n",
       "      <td>1</td>\n",
       "      <td>1.0</td>\n",
       "    </tr>\n",
       "    <tr>\n",
       "      <th>15764</th>\n",
       "      <td>0.0</td>\n",
       "      <td>0.384615</td>\n",
       "      <td>0.000481</td>\n",
       "      <td>0.667403</td>\n",
       "      <td>0.08</td>\n",
       "      <td>0.380590</td>\n",
       "      <td>0.444976</td>\n",
       "      <td>0.131228</td>\n",
       "      <td>0.382716</td>\n",
       "      <td>0</td>\n",
       "      <td>0.0</td>\n",
       "    </tr>\n",
       "    <tr>\n",
       "      <th>16722</th>\n",
       "      <td>0.0</td>\n",
       "      <td>0.461538</td>\n",
       "      <td>0.009020</td>\n",
       "      <td>0.801105</td>\n",
       "      <td>0.36</td>\n",
       "      <td>0.218818</td>\n",
       "      <td>0.765731</td>\n",
       "      <td>0.003459</td>\n",
       "      <td>0.345679</td>\n",
       "      <td>0</td>\n",
       "      <td>0.0</td>\n",
       "    </tr>\n",
       "  </tbody>\n",
       "</table>\n",
       "<p>3861 rows × 11 columns</p>\n",
       "</div>"
      ],
      "text/plain": [
       "         0         1         2         3     4         5         6         7  \\\n",
       "10529  0.0  0.923077  0.000032  0.230939  0.18  0.190112  0.863930  0.030520   \n",
       "15361  0.5  0.153846  0.008027  0.717127  0.02  0.306858  0.797742  0.001980   \n",
       "12160  0.0  0.769231  0.010819  0.818785  0.76  0.434610  0.914594  0.000275   \n",
       "2953   1.0  0.384615  0.002729  0.709392  0.86  0.244708  0.635407  0.004378   \n",
       "15870  0.0  0.000000  0.009766  0.477348  0.46  0.518806  0.720395  0.000511   \n",
       "...    ...       ...       ...       ...   ...       ...       ...       ...   \n",
       "17155  0.0  0.692308  0.000574  0.093923  0.42  0.514942  0.979377  0.001101   \n",
       "17454  0.5  0.153846  0.006062  0.976796  0.48  0.358675  0.732927  0.000254   \n",
       "12681  1.0  1.000000  0.001007  0.977901  0.20  0.232642  0.832440  0.001172   \n",
       "15764  0.0  0.384615  0.000481  0.667403  0.08  0.380590  0.444976  0.131228   \n",
       "16722  0.0  0.461538  0.009020  0.801105  0.36  0.218818  0.765731  0.003459   \n",
       "\n",
       "              8  prediction  pred_threshold  \n",
       "10529  0.209877           0             0.0  \n",
       "15361  0.654321           0             0.0  \n",
       "12160  0.283951           0             0.0  \n",
       "2953   0.222222           1             1.0  \n",
       "15870  0.148148           0             0.0  \n",
       "...         ...         ...             ...  \n",
       "17155  0.098765           0             0.0  \n",
       "17454  0.246914           0             0.0  \n",
       "12681  0.679012           1             1.0  \n",
       "15764  0.382716           0             0.0  \n",
       "16722  0.345679           0             0.0  \n",
       "\n",
       "[3861 rows x 11 columns]"
      ]
     },
     "execution_count": 68,
     "metadata": {},
     "output_type": "execute_result"
    }
   ],
   "source": [
    "# Experimenting 0.3 threshold for XGBoost model\n",
    "predict(xgb, x_test, 0.3)"
   ]
  },
  {
   "cell_type": "code",
   "execution_count": 69,
   "id": "b05a8088",
   "metadata": {
    "execution": {
     "iopub.execute_input": "2024-05-22T14:17:50.636878Z",
     "iopub.status.busy": "2024-05-22T14:17:50.636417Z",
     "iopub.status.idle": "2024-05-22T14:17:50.676140Z",
     "shell.execute_reply": "2024-05-22T14:17:50.674657Z"
    },
    "papermill": {
     "duration": 0.072816,
     "end_time": "2024-05-22T14:17:50.678761",
     "exception": false,
     "start_time": "2024-05-22T14:17:50.605945",
     "status": "completed"
    },
    "tags": []
   },
   "outputs": [
    {
     "name": "stdout",
     "output_type": "stream",
     "text": [
      "              precision    recall  f1-score   support\n",
      "\n",
      "         0.0       0.98      0.97      0.97      1932\n",
      "         1.0       0.97      0.98      0.97      1929\n",
      "\n",
      "    accuracy                           0.97      3861\n",
      "   macro avg       0.97      0.97      0.97      3861\n",
      "weighted avg       0.97      0.97      0.97      3861\n",
      "\n",
      "              precision    recall  f1-score   support\n",
      "\n",
      "         0.0       0.98      0.96      0.97      1932\n",
      "         1.0       0.96      0.98      0.97      1929\n",
      "\n",
      "    accuracy                           0.97      3861\n",
      "   macro avg       0.97      0.97      0.97      3861\n",
      "weighted avg       0.97      0.97      0.97      3861\n",
      "\n"
     ]
    }
   ],
   "source": [
    "x_test[\"real\"] = y_test[\"is_fraud\"]\n",
    "print(classification_report(x_test['real'], x_test['prediction']))\n",
    "print(classification_report(x_test['real'], x_test['pred_threshold']))"
   ]
  },
  {
   "cell_type": "markdown",
   "id": "a13719e3",
   "metadata": {
    "papermill": {
     "duration": 0.028276,
     "end_time": "2024-05-22T14:17:50.736032",
     "exception": false,
     "start_time": "2024-05-22T14:17:50.707756",
     "status": "completed"
    },
    "tags": []
   },
   "source": [
    "XGBoost got overall some much better results than the previous models, and we see also that in this case, reducing threshold to 0.3 got to a little bit worse model, which means that there is a different ROC (Receiver Operating Curve) behavior to this model"
   ]
  },
  {
   "cell_type": "code",
   "execution_count": 70,
   "id": "68f95a26",
   "metadata": {
    "execution": {
     "iopub.execute_input": "2024-05-22T14:17:50.795291Z",
     "iopub.status.busy": "2024-05-22T14:17:50.794819Z",
     "iopub.status.idle": "2024-05-22T14:17:51.053094Z",
     "shell.execute_reply": "2024-05-22T14:17:51.051982Z"
    },
    "papermill": {
     "duration": 0.291244,
     "end_time": "2024-05-22T14:17:51.055608",
     "exception": false,
     "start_time": "2024-05-22T14:17:50.764364",
     "status": "completed"
    },
    "tags": []
   },
   "outputs": [
    {
     "data": {
      "image/png": "[encoded data removed]",
      "text/plain": [
       "<Figure size 640x480 with 2 Axes>"
      ]
     },
     "metadata": {},
     "output_type": "display_data"
    }
   ],
   "source": [
    "confusion_matrix_plot(x_test, 'prediction', xgb)"
   ]
  }
 ],
 "metadata": {
  "kaggle": {
   "accelerator": "none",
   "dataSources": [
    {
     "datasetId": 817870,
     "sourceId": 1399887,
     "sourceType": "datasetVersion"
    }
   ],
   "dockerImageVersionId": 30698,
   "isGpuEnabled": false,
   "isInternetEnabled": true,
   "language": "python",
   "sourceType": "notebook"
  },
  "kernelspec": {
   "display_name": "Python 3",
   "language": "python",
   "name": "python3"
  },
  "language_info": {
   "codemirror_mode": {
    "name": "ipython",
    "version": 3
   },
   "file_extension": ".py",
   "mimetype": "text/x-python",
   "name": "python",
   "nbconvert_exporter": "python",
   "pygments_lexer": "ipython3",
   "version": "3.10.13"
  },
  "papermill": {
   "default_parameters": {},
   "duration": 89.197695,
   "end_time": "2024-05-22T14:17:52.412026",
   "environment_variables": {},
   "exception": null,
   "input_path": "__notebook__.ipynb",
   "output_path": "__notebook__.ipynb",
   "parameters": {},
   "start_time": "2024-05-22T14:16:23.214331",
   "version": "2.5.0"
  }
 },
 "nbformat": 4,
 "nbformat_minor": 5
}
